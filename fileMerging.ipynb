{
 "cells": [
  {
   "cell_type": "code",
   "execution_count": 1,
   "metadata": {},
   "outputs": [],
   "source": [
    "import pandas as pd"
   ]
  },
  {
   "cell_type": "code",
   "execution_count": 9,
   "metadata": {},
   "outputs": [],
   "source": [
    "file1='Datasets/processed_pune_weather_dataset 1-1-18-31-12-19.csv'\n",
    "file2='Datasets/processed_pune_weather_dataset 1-1-2020 - 31-12-2021.csv'\n",
    "file3='Datasets/processed_pune_weather_dataset 1-1-2022-25-9-2024.csv'\n"
   ]
  },
  {
   "cell_type": "code",
   "execution_count": 5,
   "metadata": {},
   "outputs": [],
   "source": [
    "output_file='union_processed_dataset.csv'"
   ]
  },
  {
   "cell_type": "code",
   "execution_count": 10,
   "metadata": {},
   "outputs": [],
   "source": [
    "df1=pd.read_csv(file1)\n",
    "df2=pd.read_csv(file2)\n",
    "df3=pd.read_csv(file3)"
   ]
  },
  {
   "cell_type": "code",
   "execution_count": 12,
   "metadata": {},
   "outputs": [],
   "source": [
    "union_df=pd.concat([df1,df2,df3],ignore_index=True)"
   ]
  },
  {
   "cell_type": "code",
   "execution_count": 13,
   "metadata": {},
   "outputs": [],
   "source": [
    "union_df.to_csv(output_file,index=False)"
   ]
  },
  {
   "cell_type": "code",
   "execution_count": 14,
   "metadata": {},
   "outputs": [
    {
     "name": "stdout",
     "output_type": "stream",
     "text": [
      "Union saved to union_processed_dataset.csv\n"
     ]
    }
   ],
   "source": [
    "print(f\"Union saved to {output_file}\")"
   ]
  },
  {
   "cell_type": "code",
   "execution_count": 5,
   "metadata": {},
   "outputs": [],
   "source": [
    "file_path = 'union_processed_dataset.csv'  \n",
    "data = pd.read_csv(file_path)\n",
    "\n",
    "data['Date'] = pd.to_datetime(data['Date'])\n",
    "\n",
    "start_date = '2020-01-01'\n",
    "end_date = '2021-12-31'\n",
    "\n",
    "data.loc[(data['Date'] >= start_date) & (data['Date'] <= end_date), 'Total Usage (kWh)'] = \\\n",
    "    data['Adjusted Total Usage (kWh)']\n",
    "\n",
    "\n",
    "data.drop(columns=['Adjusted Total Usage (kWh)'], inplace=True)\n",
    "\n",
    "updated_file_path = 'updated_union_processed_dataset.csv' \n",
    "data.to_csv(updated_file_path, index=False)\n"
   ]
  },
  {
   "cell_type": "code",
   "execution_count": 3,
   "metadata": {},
   "outputs": [],
   "source": [
    "f4='Datasets/sectorWise1-1-18 to 31-12-19.csv'\n",
    "f5='Datasets/sectorWise1-1-20 to 31-12-21.csv'\n",
    "f6='Datasets/sectorWise1-1-22 to 25-9-24.csv'"
   ]
  },
  {
   "cell_type": "code",
   "execution_count": 4,
   "metadata": {},
   "outputs": [],
   "source": [
    "df4=pd.read_csv(f4)\n",
    "df5=pd.read_csv(f5)\n",
    "df6=pd.read_csv(f6)"
   ]
  },
  {
   "cell_type": "code",
   "execution_count": 6,
   "metadata": {},
   "outputs": [],
   "source": [
    "merged_df=pd.concat([df4,df5,df6],ignore_index=True)"
   ]
  },
  {
   "cell_type": "code",
   "execution_count": 7,
   "metadata": {},
   "outputs": [],
   "source": [
    "output_file2='sectorwiseMerged.csv'\n",
    "merged_df.to_csv(output_file2, index=False)"
   ]
  },
  {
   "cell_type": "code",
   "execution_count": 2,
   "metadata": {},
   "outputs": [],
   "source": [
    "f7='Datasets/pune 2018-01-01 to 2019-12-31.csv'\n",
    "f8='Datasets/pune 2020-01-01 to 2021-12-31.csv'\n",
    "f9='Datasets/pune 2022-01-01 to 2024-09-25.csv'"
   ]
  },
  {
   "cell_type": "code",
   "execution_count": 4,
   "metadata": {},
   "outputs": [],
   "source": [
    "df7=pd.read_csv(f7)\n",
    "df8=pd.read_csv(f8)\n",
    "df9=pd.read_csv(f9)"
   ]
  },
  {
   "cell_type": "code",
   "execution_count": 5,
   "metadata": {},
   "outputs": [],
   "source": [
    "merge_df=pd.concat([df7,df8,df9],ignore_index=True)"
   ]
  },
  {
   "cell_type": "code",
   "execution_count": 6,
   "metadata": {},
   "outputs": [],
   "source": [
    "output_file3='puneWeather.csv'\n",
    "merge_df.to_csv(output_file3, index=False)"
   ]
  }
 ],
 "metadata": {
  "kernelspec": {
   "display_name": "base",
   "language": "python",
   "name": "python3"
  },
  "language_info": {
   "codemirror_mode": {
    "name": "ipython",
    "version": 3
   },
   "file_extension": ".py",
   "mimetype": "text/x-python",
   "name": "python",
   "nbconvert_exporter": "python",
   "pygments_lexer": "ipython3",
   "version": "3.12.7"
  }
 },
 "nbformat": 4,
 "nbformat_minor": 2
}
