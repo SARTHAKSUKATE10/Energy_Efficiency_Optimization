{
 "cells": [
  {
   "cell_type": "code",
   "execution_count": 6,
   "metadata": {},
   "outputs": [
    {
     "name": "stdout",
     "output_type": "stream",
     "text": [
      "Requirement already satisfied: pandas in c:\\users\\jrsar\\anaconda3\\lib\\site-packages (2.2.2)\n",
      "Requirement already satisfied: ctgan in c:\\users\\jrsar\\anaconda3\\lib\\site-packages (0.10.2)\n",
      "Requirement already satisfied: scikit-learn in c:\\users\\jrsar\\anaconda3\\lib\\site-packages (1.5.1)\n",
      "Requirement already satisfied: numpy>=1.26.0 in c:\\users\\jrsar\\anaconda3\\lib\\site-packages (from pandas) (1.26.4)\n",
      "Requirement already satisfied: python-dateutil>=2.8.2 in c:\\users\\jrsar\\anaconda3\\lib\\site-packages (from pandas) (2.9.0.post0)\n",
      "Requirement already satisfied: pytz>=2020.1 in c:\\users\\jrsar\\anaconda3\\lib\\site-packages (from pandas) (2024.1)\n",
      "Requirement already satisfied: tzdata>=2022.7 in c:\\users\\jrsar\\anaconda3\\lib\\site-packages (from pandas) (2023.3)\n",
      "Requirement already satisfied: tqdm<5,>=4.29 in c:\\users\\jrsar\\anaconda3\\lib\\site-packages (from ctgan) (4.66.5)\n",
      "Requirement already satisfied: rdt>=1.11.0 in c:\\users\\jrsar\\anaconda3\\lib\\site-packages (from ctgan) (1.13.2)\n",
      "Requirement already satisfied: torch>=2.2.0 in c:\\users\\jrsar\\anaconda3\\lib\\site-packages (from ctgan) (2.5.1)\n",
      "Requirement already satisfied: scipy>=1.6.0 in c:\\users\\jrsar\\anaconda3\\lib\\site-packages (from scikit-learn) (1.13.1)\n",
      "Requirement already satisfied: joblib>=1.2.0 in c:\\users\\jrsar\\anaconda3\\lib\\site-packages (from scikit-learn) (1.4.2)\n",
      "Requirement already satisfied: threadpoolctl>=3.1.0 in c:\\users\\jrsar\\anaconda3\\lib\\site-packages (from scikit-learn) (3.5.0)\n",
      "Requirement already satisfied: six>=1.5 in c:\\users\\jrsar\\anaconda3\\lib\\site-packages (from python-dateutil>=2.8.2->pandas) (1.16.0)\n",
      "Requirement already satisfied: Faker>=17 in c:\\users\\jrsar\\anaconda3\\lib\\site-packages (from rdt>=1.11.0->ctgan) (33.3.1)\n",
      "Requirement already satisfied: filelock in c:\\users\\jrsar\\anaconda3\\lib\\site-packages (from torch>=2.2.0->ctgan) (3.13.1)\n",
      "Requirement already satisfied: typing-extensions>=4.8.0 in c:\\users\\jrsar\\anaconda3\\lib\\site-packages (from torch>=2.2.0->ctgan) (4.11.0)\n",
      "Requirement already satisfied: networkx in c:\\users\\jrsar\\anaconda3\\lib\\site-packages (from torch>=2.2.0->ctgan) (3.3)\n",
      "Requirement already satisfied: jinja2 in c:\\users\\jrsar\\anaconda3\\lib\\site-packages (from torch>=2.2.0->ctgan) (3.1.4)\n",
      "Requirement already satisfied: fsspec in c:\\users\\jrsar\\anaconda3\\lib\\site-packages (from torch>=2.2.0->ctgan) (2024.6.1)\n",
      "Requirement already satisfied: setuptools in c:\\users\\jrsar\\anaconda3\\lib\\site-packages (from torch>=2.2.0->ctgan) (75.1.0)\n",
      "Requirement already satisfied: sympy==1.13.1 in c:\\users\\jrsar\\anaconda3\\lib\\site-packages (from torch>=2.2.0->ctgan) (1.13.1)\n",
      "Requirement already satisfied: mpmath<1.4,>=1.1.0 in c:\\users\\jrsar\\anaconda3\\lib\\site-packages (from sympy==1.13.1->torch>=2.2.0->ctgan) (1.3.0)\n",
      "Requirement already satisfied: colorama in c:\\users\\jrsar\\anaconda3\\lib\\site-packages (from tqdm<5,>=4.29->ctgan) (0.4.6)\n",
      "Requirement already satisfied: MarkupSafe>=2.0 in c:\\users\\jrsar\\anaconda3\\lib\\site-packages (from jinja2->torch>=2.2.0->ctgan) (2.1.3)\n",
      "Note: you may need to restart the kernel to use updated packages.\n"
     ]
    }
   ],
   "source": [
    "pip install pandas ctgan scikit-learn\n"
   ]
  },
  {
   "cell_type": "code",
   "execution_count": 7,
   "metadata": {},
   "outputs": [],
   "source": [
    "import pandas as pd\n",
    "from ctgan import CTGAN\n",
    "from sklearn.model_selection import train_test_split"
   ]
  },
  {
   "cell_type": "code",
   "execution_count": 8,
   "metadata": {},
   "outputs": [],
   "source": [
    "weather_file = \"puneWeather.csv\"  \n",
    "weather_data = pd.read_csv(weather_file)"
   ]
  },
  {
   "cell_type": "code",
   "execution_count": 9,
   "metadata": {},
   "outputs": [],
   "source": [
    "weather_data = weather_data[['datetime', 'temp', 'humidity', 'solarenergy', 'conditions']]\n",
    "weather_data.rename(columns={\n",
    "    'datetime': 'date',\n",
    "    'temp': 'avg_temperature',\n",
    "    'humidity': 'avg_humidity',\n",
    "    'solar_energy_kWh_m2': 'solar_energy_kWh_m2',\n",
    "    'conditions': 'weather_conditions'\n",
    "}, inplace=True)"
   ]
  },
  {
   "cell_type": "code",
   "execution_count": 10,
   "metadata": {},
   "outputs": [],
   "source": [
    "weather_data['date'] = pd.to_datetime(weather_data['date'])"
   ]
  },
  {
   "cell_type": "code",
   "execution_count": 11,
   "metadata": {},
   "outputs": [],
   "source": [
    "energy_file = \"updated_union_processed_dataset.csv\"  \n",
    "energy_data = pd.read_csv(energy_file)"
   ]
  },
  {
   "cell_type": "code",
   "execution_count": 12,
   "metadata": {},
   "outputs": [
    {
     "name": "stdout",
     "output_type": "stream",
     "text": [
      "Index(['Date', 'Temp (°C)', 'Humidity (%)', 'Season', 'Solar Energy (kWh)',\n",
      "       'Precipitation (mm)', 'Population', 'Total Usage (kWh)',\n",
      "       'Urban Usage (kWh)', 'Rural Usage (kWh)'],\n",
      "      dtype='object')\n"
     ]
    }
   ],
   "source": [
    "print(energy_data.columns)\n"
   ]
  },
  {
   "cell_type": "code",
   "execution_count": 13,
   "metadata": {},
   "outputs": [],
   "source": [
    "energy_data.rename(columns={'Date': 'date'}, inplace=True)\n"
   ]
  },
  {
   "cell_type": "code",
   "execution_count": 14,
   "metadata": {},
   "outputs": [
    {
     "name": "stdout",
     "output_type": "stream",
     "text": [
      "         date  Temp (°C)  Humidity (%)  Season  Solar Energy (kWh)  \\\n",
      "0  2018-01-01       19.4          62.6  Winter                18.6   \n",
      "1  2018-01-02       19.4          64.0  Winter                18.7   \n",
      "2  2018-01-03       19.5          66.6  Winter                18.8   \n",
      "3  2018-01-04       20.1          66.6  Winter                18.4   \n",
      "4  2018-01-05       20.0          66.7  Winter                17.5   \n",
      "\n",
      "   Precipitation (mm)  Population  Total Usage (kWh)  Urban Usage (kWh)  \\\n",
      "0                 0.0   3130000.0             2870.0             2009.0   \n",
      "1                 0.0   3130000.0             2875.0             2012.5   \n",
      "2                 0.0   3130000.0             2890.0             2023.0   \n",
      "3                 0.0   3130000.0             2930.0             2051.0   \n",
      "4                 0.0   3130000.0             2875.0             2012.5   \n",
      "\n",
      "   Rural Usage (kWh)  \n",
      "0              861.0  \n",
      "1              862.5  \n",
      "2              867.0  \n",
      "3              879.0  \n",
      "4              862.5  \n"
     ]
    }
   ],
   "source": [
    "print(energy_data.head())\n"
   ]
  },
  {
   "cell_type": "code",
   "execution_count": 15,
   "metadata": {},
   "outputs": [],
   "source": [
    "energy_data['date'] = pd.date_range(start=\"2019-01-01\", periods=len(energy_data), freq='D')\n"
   ]
  },
  {
   "cell_type": "code",
   "execution_count": 16,
   "metadata": {},
   "outputs": [],
   "source": [
    "energy_data['date'] = pd.to_datetime(energy_data['date'])\n",
    "energy_data['Total Usage (kWh)'] = energy_data['Total Usage (kWh)'].fillna(58800000)\n",
    "\n"
   ]
  },
  {
   "cell_type": "code",
   "execution_count": 17,
   "metadata": {},
   "outputs": [
    {
     "name": "stdout",
     "output_type": "stream",
     "text": [
      "Index(['date', 'Temp (°C)', 'Humidity (%)', 'Season', 'Solar Energy (kWh)',\n",
      "       'Precipitation (mm)', 'Population', 'Total Usage (kWh)',\n",
      "       'Urban Usage (kWh)', 'Rural Usage (kWh)'],\n",
      "      dtype='object')\n"
     ]
    }
   ],
   "source": [
    "print(energy_data.columns)\n"
   ]
  },
  {
   "cell_type": "code",
   "execution_count": 18,
   "metadata": {},
   "outputs": [],
   "source": [
    "energy_data = energy_data.loc[:, ~energy_data.columns.duplicated()]\n"
   ]
  },
  {
   "cell_type": "code",
   "execution_count": 19,
   "metadata": {},
   "outputs": [
    {
     "name": "stdout",
     "output_type": "stream",
     "text": [
      "Index(['date', 'Temp (°C)', 'Humidity (%)', 'Season', 'Solar Energy (kWh)',\n",
      "       'Precipitation (mm)', 'Population', 'Total Usage (kWh)',\n",
      "       'Urban Usage (kWh)', 'Rural Usage (kWh)'],\n",
      "      dtype='object')\n"
     ]
    }
   ],
   "source": [
    "print(energy_data.columns)"
   ]
  },
  {
   "cell_type": "code",
   "execution_count": 20,
   "metadata": {},
   "outputs": [],
   "source": [
    "energy_data['residential_kWh'] = energy_data['Total Usage (kWh)'] * 0.35\n",
    "energy_data['commercial_kWh'] = energy_data['Total Usage (kWh)'] * 0.25\n",
    "energy_data['industrial_kWh'] = energy_data['Total Usage (kWh)'] * 0.3\n",
    "energy_data['agricultural_kWh'] = energy_data['Total Usage (kWh)'] * 0.1"
   ]
  },
  {
   "cell_type": "code",
   "execution_count": 21,
   "metadata": {},
   "outputs": [],
   "source": [
    "def add_covid_effect(date):\n",
    "    if date < pd.Timestamp(\"2020-03-01\"):\n",
    "        return 0  # Pre-COVID\n",
    "    elif pd.Timestamp(\"2020-03-01\") <= date <= pd.Timestamp(\"2021-06-30\"):\n",
    "        return 1  # Lockdown\n",
    "    else:\n",
    "        return 2  # Post-COVID\n",
    "\n",
    "energy_data['covid_effect'] = energy_data['date'].apply(add_covid_effect)"
   ]
  },
  {
   "cell_type": "code",
   "execution_count": 22,
   "metadata": {},
   "outputs": [],
   "source": [
    "def adjust_energy(row):\n",
    "    if row['covid_effect'] == 1:  # Lockdown\n",
    "        row['residential_kWh'] *= 1.2  \n",
    "        row['commercial_kWh'] *= 0.5  \n",
    "        row['industrial_kWh'] *= 0.7  \n",
    "    return row\n",
    "\n",
    "energy_data = energy_data.apply(adjust_energy, axis=1)"
   ]
  },
  {
   "cell_type": "code",
   "execution_count": 23,
   "metadata": {},
   "outputs": [],
   "source": [
    "merged_data = pd.merge(energy_data, weather_data, on='date', how='inner')"
   ]
  },
  {
   "cell_type": "code",
   "execution_count": 24,
   "metadata": {},
   "outputs": [],
   "source": [
    "categorical_columns = ['weather_conditions', 'covid_effect']  # Categorical columns\n",
    "continuous_columns = ['avg_temperature', 'avg_humidity', 'solar_energy_kWh_m2', \n",
    "                      'Total Usage (kWh)', 'residential_kWh', 'commercial_kWh', \n",
    "                      'industrial_kWh', 'agricultural_kWh']\n",
    "\n",
    "# Split the data into training and testing sets\n",
    "train_data, test_data = train_test_split(merged_data, test_size=0.2, random_state=42)"
   ]
  },
  {
   "cell_type": "code",
   "execution_count": 25,
   "metadata": {},
   "outputs": [
    {
     "name": "stdout",
     "output_type": "stream",
     "text": [
      "Index(['date', 'Temp (°C)', 'Humidity (%)', 'Season', 'Solar Energy (kWh)',\n",
      "       'Precipitation (mm)', 'Population', 'Total Usage (kWh)',\n",
      "       'Urban Usage (kWh)', 'Rural Usage (kWh)', 'residential_kWh',\n",
      "       'commercial_kWh', 'industrial_kWh', 'agricultural_kWh', 'covid_effect'],\n",
      "      dtype='object')\n"
     ]
    }
   ],
   "source": [
    "print(energy_data.columns)"
   ]
  },
  {
   "cell_type": "code",
   "execution_count": 26,
   "metadata": {},
   "outputs": [],
   "source": [
    "categorical_columns = ['Temp (°C)', 'Humidity (%)', 'Season', 'Solar Energy (kWh)',\n",
    "       'Precipitation (mm)', 'Population', 'Total Usage (kWh)',\n",
    "       'Urban Usage (kWh)', 'Rural Usage (kWh)', 'residential_kWh',\n",
    "       'commercial_kWh', 'industrial_kWh', 'agricultural_kWh', 'covid_effect',\n",
    "       'year', 'month', 'day']"
   ]
  },
  {
   "cell_type": "code",
   "execution_count": 27,
   "metadata": {},
   "outputs": [],
   "source": [
    "energy_data['year'] = energy_data['date'].dt.year\n",
    "energy_data['month'] = energy_data['date'].dt.month\n",
    "energy_data['day'] = energy_data['date'].dt.day"
   ]
  },
  {
   "cell_type": "code",
   "execution_count": 28,
   "metadata": {},
   "outputs": [
    {
     "name": "stdout",
     "output_type": "stream",
     "text": [
      "Index(['date', 'temp (°c)', 'humidity (%)', 'season', 'solar energy (kwh)',\n",
      "       'precipitation (mm)', 'population', 'total usage (kwh)',\n",
      "       'urban usage (kwh)', 'rural usage (kwh)', 'residential_kwh',\n",
      "       'commercial_kwh', 'industrial_kwh', 'agricultural_kwh', 'covid_effect',\n",
      "       'avg_temperature', 'avg_humidity', 'solarenergy', 'weather_conditions'],\n",
      "      dtype='object')\n"
     ]
    }
   ],
   "source": [
    "train_data.columns = train_data.columns.str.strip()  \n",
    "train_data.columns = train_data.columns.str.lower()  \n",
    "print(train_data.columns)\n"
   ]
  },
  {
   "cell_type": "code",
   "execution_count": 29,
   "metadata": {},
   "outputs": [
    {
     "data": {
      "text/html": [
       "<div>\n",
       "<style scoped>\n",
       "    .dataframe tbody tr th:only-of-type {\n",
       "        vertical-align: middle;\n",
       "    }\n",
       "\n",
       "    .dataframe tbody tr th {\n",
       "        vertical-align: top;\n",
       "    }\n",
       "\n",
       "    .dataframe thead th {\n",
       "        text-align: right;\n",
       "    }\n",
       "</style>\n",
       "<table border=\"1\" class=\"dataframe\">\n",
       "  <thead>\n",
       "    <tr style=\"text-align: right;\">\n",
       "      <th></th>\n",
       "      <th>date</th>\n",
       "      <th>temp (°c)</th>\n",
       "      <th>humidity (%)</th>\n",
       "      <th>season</th>\n",
       "      <th>solar energy (kwh)</th>\n",
       "      <th>precipitation (mm)</th>\n",
       "      <th>population</th>\n",
       "      <th>total usage (kwh)</th>\n",
       "      <th>urban usage (kwh)</th>\n",
       "      <th>rural usage (kwh)</th>\n",
       "      <th>residential_kwh</th>\n",
       "      <th>commercial_kwh</th>\n",
       "      <th>industrial_kwh</th>\n",
       "      <th>agricultural_kwh</th>\n",
       "      <th>covid_effect</th>\n",
       "      <th>avg_temperature</th>\n",
       "      <th>avg_humidity</th>\n",
       "      <th>solarenergy</th>\n",
       "      <th>weather_conditions</th>\n",
       "    </tr>\n",
       "  </thead>\n",
       "  <tbody>\n",
       "    <tr>\n",
       "      <th>30</th>\n",
       "      <td>2019-01-31</td>\n",
       "      <td>20.7</td>\n",
       "      <td>47.9</td>\n",
       "      <td>Winter</td>\n",
       "      <td>21.4</td>\n",
       "      <td>0.0</td>\n",
       "      <td>3130000.0</td>\n",
       "      <td>3140.000000</td>\n",
       "      <td>2198.000000</td>\n",
       "      <td>942.000000</td>\n",
       "      <td>1099.000000</td>\n",
       "      <td>785.000000</td>\n",
       "      <td>942.000000</td>\n",
       "      <td>314.000000</td>\n",
       "      <td>0</td>\n",
       "      <td>19.8</td>\n",
       "      <td>54.9</td>\n",
       "      <td>21.0</td>\n",
       "      <td>Clear</td>\n",
       "    </tr>\n",
       "    <tr>\n",
       "      <th>1178</th>\n",
       "      <td>2022-03-24</td>\n",
       "      <td>26.5</td>\n",
       "      <td>55.8</td>\n",
       "      <td>Summer</td>\n",
       "      <td>20.9</td>\n",
       "      <td>0.1</td>\n",
       "      <td>3130000.0</td>\n",
       "      <td>3506.819147</td>\n",
       "      <td>2001.325000</td>\n",
       "      <td>850.530000</td>\n",
       "      <td>1227.386702</td>\n",
       "      <td>876.704787</td>\n",
       "      <td>1052.045744</td>\n",
       "      <td>350.681915</td>\n",
       "      <td>2</td>\n",
       "      <td>27.8</td>\n",
       "      <td>56.5</td>\n",
       "      <td>17.1</td>\n",
       "      <td>Rain, Partially cloudy</td>\n",
       "    </tr>\n",
       "    <tr>\n",
       "      <th>1628</th>\n",
       "      <td>2023-06-17</td>\n",
       "      <td>26.8</td>\n",
       "      <td>74.1</td>\n",
       "      <td>Monsoon</td>\n",
       "      <td>16.4</td>\n",
       "      <td>NaN</td>\n",
       "      <td>NaN</td>\n",
       "      <td>3625.938090</td>\n",
       "      <td>2538.156663</td>\n",
       "      <td>1087.781427</td>\n",
       "      <td>1269.078332</td>\n",
       "      <td>906.484523</td>\n",
       "      <td>1087.781427</td>\n",
       "      <td>362.593809</td>\n",
       "      <td>2</td>\n",
       "      <td>27.4</td>\n",
       "      <td>73.4</td>\n",
       "      <td>20.3</td>\n",
       "      <td>Rain, Partially cloudy</td>\n",
       "    </tr>\n",
       "    <tr>\n",
       "      <th>764</th>\n",
       "      <td>2021-02-03</td>\n",
       "      <td>21.6</td>\n",
       "      <td>70.7</td>\n",
       "      <td>Winter</td>\n",
       "      <td>18.4</td>\n",
       "      <td>0.0</td>\n",
       "      <td>3130000.0</td>\n",
       "      <td>3229.726703</td>\n",
       "      <td>2001.080000</td>\n",
       "      <td>850.432000</td>\n",
       "      <td>1356.485215</td>\n",
       "      <td>403.715838</td>\n",
       "      <td>678.242608</td>\n",
       "      <td>322.972670</td>\n",
       "      <td>1</td>\n",
       "      <td>20.5</td>\n",
       "      <td>52.5</td>\n",
       "      <td>21.1</td>\n",
       "      <td>Clear</td>\n",
       "    </tr>\n",
       "    <tr>\n",
       "      <th>1317</th>\n",
       "      <td>2022-08-10</td>\n",
       "      <td>24.2</td>\n",
       "      <td>85.3</td>\n",
       "      <td>Monsoon</td>\n",
       "      <td>15.1</td>\n",
       "      <td>0.7</td>\n",
       "      <td>3130000.0</td>\n",
       "      <td>2851.694000</td>\n",
       "      <td>2001.210000</td>\n",
       "      <td>850.484000</td>\n",
       "      <td>998.092900</td>\n",
       "      <td>712.923500</td>\n",
       "      <td>855.508200</td>\n",
       "      <td>285.169400</td>\n",
       "      <td>2</td>\n",
       "      <td>22.9</td>\n",
       "      <td>92.1</td>\n",
       "      <td>10.9</td>\n",
       "      <td>Rain, Overcast</td>\n",
       "    </tr>\n",
       "  </tbody>\n",
       "</table>\n",
       "</div>"
      ],
      "text/plain": [
       "           date  temp (°c)  humidity (%)   season  solar energy (kwh)  \\\n",
       "30   2019-01-31       20.7          47.9   Winter                21.4   \n",
       "1178 2022-03-24       26.5          55.8   Summer                20.9   \n",
       "1628 2023-06-17       26.8          74.1  Monsoon                16.4   \n",
       "764  2021-02-03       21.6          70.7   Winter                18.4   \n",
       "1317 2022-08-10       24.2          85.3  Monsoon                15.1   \n",
       "\n",
       "      precipitation (mm)  population  total usage (kwh)  urban usage (kwh)  \\\n",
       "30                   0.0   3130000.0        3140.000000        2198.000000   \n",
       "1178                 0.1   3130000.0        3506.819147        2001.325000   \n",
       "1628                 NaN         NaN        3625.938090        2538.156663   \n",
       "764                  0.0   3130000.0        3229.726703        2001.080000   \n",
       "1317                 0.7   3130000.0        2851.694000        2001.210000   \n",
       "\n",
       "      rural usage (kwh)  residential_kwh  commercial_kwh  industrial_kwh  \\\n",
       "30           942.000000      1099.000000      785.000000      942.000000   \n",
       "1178         850.530000      1227.386702      876.704787     1052.045744   \n",
       "1628        1087.781427      1269.078332      906.484523     1087.781427   \n",
       "764          850.432000      1356.485215      403.715838      678.242608   \n",
       "1317         850.484000       998.092900      712.923500      855.508200   \n",
       "\n",
       "      agricultural_kwh  covid_effect  avg_temperature  avg_humidity  \\\n",
       "30          314.000000             0             19.8          54.9   \n",
       "1178        350.681915             2             27.8          56.5   \n",
       "1628        362.593809             2             27.4          73.4   \n",
       "764         322.972670             1             20.5          52.5   \n",
       "1317        285.169400             2             22.9          92.1   \n",
       "\n",
       "      solarenergy      weather_conditions  \n",
       "30           21.0                   Clear  \n",
       "1178         17.1  Rain, Partially cloudy  \n",
       "1628         20.3  Rain, Partially cloudy  \n",
       "764          21.1                   Clear  \n",
       "1317         10.9          Rain, Overcast  "
      ]
     },
     "execution_count": 29,
     "metadata": {},
     "output_type": "execute_result"
    }
   ],
   "source": [
    "train_data.head()\n"
   ]
  },
  {
   "cell_type": "code",
   "execution_count": 30,
   "metadata": {},
   "outputs": [
    {
     "name": "stdout",
     "output_type": "stream",
     "text": [
      "Expected column 'year' not found. Check the dataset.\n"
     ]
    }
   ],
   "source": [
    "\n",
    "if 'year' not in train_data.columns:\n",
    "    print(\"Expected column 'year' not found. Check the dataset.\")\n",
    "else:\n",
    "    train_data['year'] = train_data['year'].astype(str)\n",
    "    train_data['month'] = train_data['month'].astype(str)\n",
    "    train_data['day'] = train_data['day'].astype(str)\n",
    "\n",
    "\n",
    "categorical_columns = ['season','weather_conditions', 'covid_effect']  "
   ]
  },
  {
   "cell_type": "code",
   "execution_count": 31,
   "metadata": {},
   "outputs": [
    {
     "name": "stdout",
     "output_type": "stream",
     "text": [
      "Index(['date', 'temp (°c)', 'humidity (%)', 'season', 'solar energy (kwh)',\n",
      "       'precipitation (mm)', 'population', 'total usage (kwh)',\n",
      "       'urban usage (kwh)', 'rural usage (kwh)', 'residential_kwh',\n",
      "       'commercial_kwh', 'industrial_kwh', 'agricultural_kwh', 'covid_effect',\n",
      "       'avg_temperature', 'avg_humidity', 'solarenergy', 'weather_conditions'],\n",
      "      dtype='object')\n"
     ]
    }
   ],
   "source": [
    "print(train_data.columns)\n"
   ]
  },
  {
   "cell_type": "code",
   "execution_count": 32,
   "metadata": {},
   "outputs": [
    {
     "name": "stdout",
     "output_type": "stream",
     "text": [
      "Index(['date', 'temp (°c)', 'humidity (%)', 'season', 'solar energy (kwh)',\n",
      "       'precipitation (mm)', 'population', 'total usage (kwh)',\n",
      "       'urban usage (kwh)', 'rural usage (kwh)', 'residential_kwh',\n",
      "       'commercial_kwh', 'industrial_kwh', 'agricultural_kwh', 'covid_effect',\n",
      "       'avg_temperature', 'avg_humidity', 'solarenergy', 'weather_conditions'],\n",
      "      dtype='object')\n",
      "['season', 'weather_conditions', 'covid_effect']\n"
     ]
    }
   ],
   "source": [
    "print(train_data.columns)\n",
    "print(categorical_columns)\n"
   ]
  },
  {
   "cell_type": "code",
   "execution_count": 34,
   "metadata": {},
   "outputs": [
    {
     "ename": "TypeError",
     "evalue": "Cannot cast DatetimeArray to dtype float64",
     "output_type": "error",
     "traceback": [
      "\u001b[1;31m---------------------------------------------------------------------------\u001b[0m",
      "\u001b[1;31mTypeError\u001b[0m                                 Traceback (most recent call last)",
      "Cell \u001b[1;32mIn[34], line 2\u001b[0m\n\u001b[0;32m      1\u001b[0m ctgan \u001b[38;5;241m=\u001b[39m CTGAN(epochs\u001b[38;5;241m=\u001b[39m\u001b[38;5;241m300\u001b[39m, batch_size\u001b[38;5;241m=\u001b[39m\u001b[38;5;241m500\u001b[39m)\n\u001b[1;32m----> 2\u001b[0m ctgan\u001b[38;5;241m.\u001b[39mfit(train_data, discrete_columns\u001b[38;5;241m=\u001b[39mcategorical_columns)\n",
      "File \u001b[1;32mc:\\Users\\jrsar\\anaconda3\\Lib\\site-packages\\ctgan\\synthesizers\\base.py:50\u001b[0m, in \u001b[0;36mrandom_state.<locals>.wrapper\u001b[1;34m(self, *args, **kwargs)\u001b[0m\n\u001b[0;32m     48\u001b[0m \u001b[38;5;28;01mdef\u001b[39;00m \u001b[38;5;21mwrapper\u001b[39m(\u001b[38;5;28mself\u001b[39m, \u001b[38;5;241m*\u001b[39margs, \u001b[38;5;241m*\u001b[39m\u001b[38;5;241m*\u001b[39mkwargs):\n\u001b[0;32m     49\u001b[0m     \u001b[38;5;28;01mif\u001b[39;00m \u001b[38;5;28mself\u001b[39m\u001b[38;5;241m.\u001b[39mrandom_states \u001b[38;5;129;01mis\u001b[39;00m \u001b[38;5;28;01mNone\u001b[39;00m:\n\u001b[1;32m---> 50\u001b[0m         \u001b[38;5;28;01mreturn\u001b[39;00m function(\u001b[38;5;28mself\u001b[39m, \u001b[38;5;241m*\u001b[39margs, \u001b[38;5;241m*\u001b[39m\u001b[38;5;241m*\u001b[39mkwargs)\n\u001b[0;32m     52\u001b[0m     \u001b[38;5;28;01melse\u001b[39;00m:\n\u001b[0;32m     53\u001b[0m         \u001b[38;5;28;01mwith\u001b[39;00m set_random_states(\u001b[38;5;28mself\u001b[39m\u001b[38;5;241m.\u001b[39mrandom_states, \u001b[38;5;28mself\u001b[39m\u001b[38;5;241m.\u001b[39mset_random_state):\n",
      "File \u001b[1;32mc:\\Users\\jrsar\\anaconda3\\Lib\\site-packages\\ctgan\\synthesizers\\ctgan.py:319\u001b[0m, in \u001b[0;36mCTGAN.fit\u001b[1;34m(self, train_data, discrete_columns, epochs)\u001b[0m\n\u001b[0;32m    310\u001b[0m     warnings\u001b[38;5;241m.\u001b[39mwarn(\n\u001b[0;32m    311\u001b[0m         (\n\u001b[0;32m    312\u001b[0m             \u001b[38;5;124m'\u001b[39m\u001b[38;5;124m`epochs` argument in `fit` method has been deprecated and will be removed \u001b[39m\u001b[38;5;124m'\u001b[39m\n\u001b[1;32m   (...)\u001b[0m\n\u001b[0;32m    315\u001b[0m         \u001b[38;5;167;01mDeprecationWarning\u001b[39;00m,\n\u001b[0;32m    316\u001b[0m     )\n\u001b[0;32m    318\u001b[0m \u001b[38;5;28mself\u001b[39m\u001b[38;5;241m.\u001b[39m_transformer \u001b[38;5;241m=\u001b[39m DataTransformer()\n\u001b[1;32m--> 319\u001b[0m \u001b[38;5;28mself\u001b[39m\u001b[38;5;241m.\u001b[39m_transformer\u001b[38;5;241m.\u001b[39mfit(train_data, discrete_columns)\n\u001b[0;32m    321\u001b[0m train_data \u001b[38;5;241m=\u001b[39m \u001b[38;5;28mself\u001b[39m\u001b[38;5;241m.\u001b[39m_transformer\u001b[38;5;241m.\u001b[39mtransform(train_data)\n\u001b[0;32m    323\u001b[0m \u001b[38;5;28mself\u001b[39m\u001b[38;5;241m.\u001b[39m_data_sampler \u001b[38;5;241m=\u001b[39m DataSampler(\n\u001b[0;32m    324\u001b[0m     train_data, \u001b[38;5;28mself\u001b[39m\u001b[38;5;241m.\u001b[39m_transformer\u001b[38;5;241m.\u001b[39moutput_info_list, \u001b[38;5;28mself\u001b[39m\u001b[38;5;241m.\u001b[39m_log_frequency\n\u001b[0;32m    325\u001b[0m )\n",
      "File \u001b[1;32mc:\\Users\\jrsar\\anaconda3\\Lib\\site-packages\\ctgan\\data_transformer.py:113\u001b[0m, in \u001b[0;36mDataTransformer.fit\u001b[1;34m(self, raw_data, discrete_columns)\u001b[0m\n\u001b[0;32m    111\u001b[0m     column_transform_info \u001b[38;5;241m=\u001b[39m \u001b[38;5;28mself\u001b[39m\u001b[38;5;241m.\u001b[39m_fit_discrete(raw_data[[column_name]])\n\u001b[0;32m    112\u001b[0m \u001b[38;5;28;01melse\u001b[39;00m:\n\u001b[1;32m--> 113\u001b[0m     column_transform_info \u001b[38;5;241m=\u001b[39m \u001b[38;5;28mself\u001b[39m\u001b[38;5;241m.\u001b[39m_fit_continuous(raw_data[[column_name]])\n\u001b[0;32m    115\u001b[0m \u001b[38;5;28mself\u001b[39m\u001b[38;5;241m.\u001b[39moutput_info_list\u001b[38;5;241m.\u001b[39mappend(column_transform_info\u001b[38;5;241m.\u001b[39moutput_info)\n\u001b[0;32m    116\u001b[0m \u001b[38;5;28mself\u001b[39m\u001b[38;5;241m.\u001b[39moutput_dimensions \u001b[38;5;241m+\u001b[39m\u001b[38;5;241m=\u001b[39m column_transform_info\u001b[38;5;241m.\u001b[39moutput_dimensions\n",
      "File \u001b[1;32mc:\\Users\\jrsar\\anaconda3\\Lib\\site-packages\\ctgan\\data_transformer.py:53\u001b[0m, in \u001b[0;36mDataTransformer._fit_continuous\u001b[1;34m(self, data)\u001b[0m\n\u001b[0;32m     47\u001b[0m column_name \u001b[38;5;241m=\u001b[39m data\u001b[38;5;241m.\u001b[39mcolumns[\u001b[38;5;241m0\u001b[39m]\n\u001b[0;32m     48\u001b[0m gm \u001b[38;5;241m=\u001b[39m ClusterBasedNormalizer(\n\u001b[0;32m     49\u001b[0m     missing_value_generation\u001b[38;5;241m=\u001b[39m\u001b[38;5;124m'\u001b[39m\u001b[38;5;124mfrom_column\u001b[39m\u001b[38;5;124m'\u001b[39m,\n\u001b[0;32m     50\u001b[0m     max_clusters\u001b[38;5;241m=\u001b[39m\u001b[38;5;28mmin\u001b[39m(\u001b[38;5;28mlen\u001b[39m(data), \u001b[38;5;28mself\u001b[39m\u001b[38;5;241m.\u001b[39m_max_clusters),\n\u001b[0;32m     51\u001b[0m     weight_threshold\u001b[38;5;241m=\u001b[39m\u001b[38;5;28mself\u001b[39m\u001b[38;5;241m.\u001b[39m_weight_threshold,\n\u001b[0;32m     52\u001b[0m )\n\u001b[1;32m---> 53\u001b[0m gm\u001b[38;5;241m.\u001b[39mfit(data, column_name)\n\u001b[0;32m     54\u001b[0m num_components \u001b[38;5;241m=\u001b[39m \u001b[38;5;28msum\u001b[39m(gm\u001b[38;5;241m.\u001b[39mvalid_component_indicator)\n\u001b[0;32m     56\u001b[0m \u001b[38;5;28;01mreturn\u001b[39;00m ColumnTransformInfo(\n\u001b[0;32m     57\u001b[0m     column_name\u001b[38;5;241m=\u001b[39mcolumn_name,\n\u001b[0;32m     58\u001b[0m     column_type\u001b[38;5;241m=\u001b[39m\u001b[38;5;124m'\u001b[39m\u001b[38;5;124mcontinuous\u001b[39m\u001b[38;5;124m'\u001b[39m,\n\u001b[1;32m   (...)\u001b[0m\n\u001b[0;32m     61\u001b[0m     output_dimensions\u001b[38;5;241m=\u001b[39m\u001b[38;5;241m1\u001b[39m \u001b[38;5;241m+\u001b[39m num_components,\n\u001b[0;32m     62\u001b[0m )\n",
      "File \u001b[1;32mc:\\Users\\jrsar\\anaconda3\\Lib\\site-packages\\rdt\\transformers\\base.py:57\u001b[0m, in \u001b[0;36mrandom_state.<locals>.wrapper\u001b[1;34m(self, *args, **kwargs)\u001b[0m\n\u001b[0;32m     55\u001b[0m method_name \u001b[38;5;241m=\u001b[39m function\u001b[38;5;241m.\u001b[39m\u001b[38;5;18m__name__\u001b[39m\n\u001b[0;32m     56\u001b[0m \u001b[38;5;28;01mwith\u001b[39;00m set_random_states(\u001b[38;5;28mself\u001b[39m\u001b[38;5;241m.\u001b[39mrandom_states, method_name, \u001b[38;5;28mself\u001b[39m\u001b[38;5;241m.\u001b[39mset_random_state):\n\u001b[1;32m---> 57\u001b[0m     \u001b[38;5;28;01mreturn\u001b[39;00m function(\u001b[38;5;28mself\u001b[39m, \u001b[38;5;241m*\u001b[39margs, \u001b[38;5;241m*\u001b[39m\u001b[38;5;241m*\u001b[39mkwargs)\n",
      "File \u001b[1;32mc:\\Users\\jrsar\\anaconda3\\Lib\\site-packages\\rdt\\transformers\\base.py:394\u001b[0m, in \u001b[0;36mBaseTransformer.fit\u001b[1;34m(self, data, column)\u001b[0m\n\u001b[0;32m    392\u001b[0m \u001b[38;5;28mself\u001b[39m\u001b[38;5;241m.\u001b[39m_set_seed(data)\n\u001b[0;32m    393\u001b[0m columns_data \u001b[38;5;241m=\u001b[39m \u001b[38;5;28mself\u001b[39m\u001b[38;5;241m.\u001b[39m_get_columns_data(data, \u001b[38;5;28mself\u001b[39m\u001b[38;5;241m.\u001b[39mcolumns)\n\u001b[1;32m--> 394\u001b[0m \u001b[38;5;28mself\u001b[39m\u001b[38;5;241m.\u001b[39m_fit(columns_data)\n\u001b[0;32m    395\u001b[0m \u001b[38;5;28mself\u001b[39m\u001b[38;5;241m.\u001b[39m_build_output_columns(data)\n",
      "File \u001b[1;32mc:\\Users\\jrsar\\anaconda3\\Lib\\site-packages\\rdt\\transformers\\numerical.py:539\u001b[0m, in \u001b[0;36mClusterBasedNormalizer._fit\u001b[1;34m(self, data)\u001b[0m\n\u001b[0;32m    531\u001b[0m \u001b[38;5;28mself\u001b[39m\u001b[38;5;241m.\u001b[39m_bgm_transformer \u001b[38;5;241m=\u001b[39m sm\u001b[38;5;241m.\u001b[39mBayesianGaussianMixture(\n\u001b[0;32m    532\u001b[0m     n_components\u001b[38;5;241m=\u001b[39m\u001b[38;5;28mself\u001b[39m\u001b[38;5;241m.\u001b[39mmax_clusters,\n\u001b[0;32m    533\u001b[0m     weight_concentration_prior_type\u001b[38;5;241m=\u001b[39m\u001b[38;5;124m'\u001b[39m\u001b[38;5;124mdirichlet_process\u001b[39m\u001b[38;5;124m'\u001b[39m,\n\u001b[0;32m    534\u001b[0m     weight_concentration_prior\u001b[38;5;241m=\u001b[39m\u001b[38;5;241m0.001\u001b[39m,\n\u001b[0;32m    535\u001b[0m     random_state\u001b[38;5;241m=\u001b[39m\u001b[38;5;28mself\u001b[39m\u001b[38;5;241m.\u001b[39m_get_current_random_seed(),\n\u001b[0;32m    536\u001b[0m )\n\u001b[0;32m    538\u001b[0m \u001b[38;5;28msuper\u001b[39m()\u001b[38;5;241m.\u001b[39m_fit(data)\n\u001b[1;32m--> 539\u001b[0m data \u001b[38;5;241m=\u001b[39m \u001b[38;5;28msuper\u001b[39m()\u001b[38;5;241m.\u001b[39m_transform(data)\n\u001b[0;32m    540\u001b[0m \u001b[38;5;28;01mif\u001b[39;00m data\u001b[38;5;241m.\u001b[39mndim \u001b[38;5;241m>\u001b[39m \u001b[38;5;241m1\u001b[39m:\n\u001b[0;32m    541\u001b[0m     data \u001b[38;5;241m=\u001b[39m data[:, \u001b[38;5;241m0\u001b[39m]\n",
      "File \u001b[1;32mc:\\Users\\jrsar\\anaconda3\\Lib\\site-packages\\rdt\\transformers\\numerical.py:168\u001b[0m, in \u001b[0;36mFloatFormatter._transform\u001b[1;34m(self, data)\u001b[0m\n\u001b[0;32m    155\u001b[0m \u001b[38;5;250m\u001b[39m\u001b[38;5;124;03m\"\"\"Transform numerical data.\u001b[39;00m\n\u001b[0;32m    156\u001b[0m \n\u001b[0;32m    157\u001b[0m \u001b[38;5;124;03mInteger values are replaced by their float equivalent. Non null float values\u001b[39;00m\n\u001b[1;32m   (...)\u001b[0m\n\u001b[0;32m    165\u001b[0m \u001b[38;5;124;03m    numpy.ndarray\u001b[39;00m\n\u001b[0;32m    166\u001b[0m \u001b[38;5;124;03m\"\"\"\u001b[39;00m\n\u001b[0;32m    167\u001b[0m \u001b[38;5;28mself\u001b[39m\u001b[38;5;241m.\u001b[39m_validate_values_within_bounds(data)\n\u001b[1;32m--> 168\u001b[0m data \u001b[38;5;241m=\u001b[39m data\u001b[38;5;241m.\u001b[39mastype(np\u001b[38;5;241m.\u001b[39mfloat64)\n\u001b[0;32m    169\u001b[0m \u001b[38;5;28;01mreturn\u001b[39;00m \u001b[38;5;28mself\u001b[39m\u001b[38;5;241m.\u001b[39mnull_transformer\u001b[38;5;241m.\u001b[39mtransform(data)\n",
      "File \u001b[1;32mc:\\Users\\jrsar\\anaconda3\\Lib\\site-packages\\pandas\\core\\generic.py:6643\u001b[0m, in \u001b[0;36mNDFrame.astype\u001b[1;34m(self, dtype, copy, errors)\u001b[0m\n\u001b[0;32m   6637\u001b[0m     results \u001b[38;5;241m=\u001b[39m [\n\u001b[0;32m   6638\u001b[0m         ser\u001b[38;5;241m.\u001b[39mastype(dtype, copy\u001b[38;5;241m=\u001b[39mcopy, errors\u001b[38;5;241m=\u001b[39merrors) \u001b[38;5;28;01mfor\u001b[39;00m _, ser \u001b[38;5;129;01min\u001b[39;00m \u001b[38;5;28mself\u001b[39m\u001b[38;5;241m.\u001b[39mitems()\n\u001b[0;32m   6639\u001b[0m     ]\n\u001b[0;32m   6641\u001b[0m \u001b[38;5;28;01melse\u001b[39;00m:\n\u001b[0;32m   6642\u001b[0m     \u001b[38;5;66;03m# else, only a single dtype is given\u001b[39;00m\n\u001b[1;32m-> 6643\u001b[0m     new_data \u001b[38;5;241m=\u001b[39m \u001b[38;5;28mself\u001b[39m\u001b[38;5;241m.\u001b[39m_mgr\u001b[38;5;241m.\u001b[39mastype(dtype\u001b[38;5;241m=\u001b[39mdtype, copy\u001b[38;5;241m=\u001b[39mcopy, errors\u001b[38;5;241m=\u001b[39merrors)\n\u001b[0;32m   6644\u001b[0m     res \u001b[38;5;241m=\u001b[39m \u001b[38;5;28mself\u001b[39m\u001b[38;5;241m.\u001b[39m_constructor_from_mgr(new_data, axes\u001b[38;5;241m=\u001b[39mnew_data\u001b[38;5;241m.\u001b[39maxes)\n\u001b[0;32m   6645\u001b[0m     \u001b[38;5;28;01mreturn\u001b[39;00m res\u001b[38;5;241m.\u001b[39m__finalize__(\u001b[38;5;28mself\u001b[39m, method\u001b[38;5;241m=\u001b[39m\u001b[38;5;124m\"\u001b[39m\u001b[38;5;124mastype\u001b[39m\u001b[38;5;124m\"\u001b[39m)\n",
      "File \u001b[1;32mc:\\Users\\jrsar\\anaconda3\\Lib\\site-packages\\pandas\\core\\internals\\managers.py:430\u001b[0m, in \u001b[0;36mBaseBlockManager.astype\u001b[1;34m(self, dtype, copy, errors)\u001b[0m\n\u001b[0;32m    427\u001b[0m \u001b[38;5;28;01melif\u001b[39;00m using_copy_on_write():\n\u001b[0;32m    428\u001b[0m     copy \u001b[38;5;241m=\u001b[39m \u001b[38;5;28;01mFalse\u001b[39;00m\n\u001b[1;32m--> 430\u001b[0m \u001b[38;5;28;01mreturn\u001b[39;00m \u001b[38;5;28mself\u001b[39m\u001b[38;5;241m.\u001b[39mapply(\n\u001b[0;32m    431\u001b[0m     \u001b[38;5;124m\"\u001b[39m\u001b[38;5;124mastype\u001b[39m\u001b[38;5;124m\"\u001b[39m,\n\u001b[0;32m    432\u001b[0m     dtype\u001b[38;5;241m=\u001b[39mdtype,\n\u001b[0;32m    433\u001b[0m     copy\u001b[38;5;241m=\u001b[39mcopy,\n\u001b[0;32m    434\u001b[0m     errors\u001b[38;5;241m=\u001b[39merrors,\n\u001b[0;32m    435\u001b[0m     using_cow\u001b[38;5;241m=\u001b[39musing_copy_on_write(),\n\u001b[0;32m    436\u001b[0m )\n",
      "File \u001b[1;32mc:\\Users\\jrsar\\anaconda3\\Lib\\site-packages\\pandas\\core\\internals\\managers.py:363\u001b[0m, in \u001b[0;36mBaseBlockManager.apply\u001b[1;34m(self, f, align_keys, **kwargs)\u001b[0m\n\u001b[0;32m    361\u001b[0m         applied \u001b[38;5;241m=\u001b[39m b\u001b[38;5;241m.\u001b[39mapply(f, \u001b[38;5;241m*\u001b[39m\u001b[38;5;241m*\u001b[39mkwargs)\n\u001b[0;32m    362\u001b[0m     \u001b[38;5;28;01melse\u001b[39;00m:\n\u001b[1;32m--> 363\u001b[0m         applied \u001b[38;5;241m=\u001b[39m \u001b[38;5;28mgetattr\u001b[39m(b, f)(\u001b[38;5;241m*\u001b[39m\u001b[38;5;241m*\u001b[39mkwargs)\n\u001b[0;32m    364\u001b[0m     result_blocks \u001b[38;5;241m=\u001b[39m extend_blocks(applied, result_blocks)\n\u001b[0;32m    366\u001b[0m out \u001b[38;5;241m=\u001b[39m \u001b[38;5;28mtype\u001b[39m(\u001b[38;5;28mself\u001b[39m)\u001b[38;5;241m.\u001b[39mfrom_blocks(result_blocks, \u001b[38;5;28mself\u001b[39m\u001b[38;5;241m.\u001b[39maxes)\n",
      "File \u001b[1;32mc:\\Users\\jrsar\\anaconda3\\Lib\\site-packages\\pandas\\core\\internals\\blocks.py:758\u001b[0m, in \u001b[0;36mBlock.astype\u001b[1;34m(self, dtype, copy, errors, using_cow, squeeze)\u001b[0m\n\u001b[0;32m    755\u001b[0m         \u001b[38;5;28;01mraise\u001b[39;00m \u001b[38;5;167;01mValueError\u001b[39;00m(\u001b[38;5;124m\"\u001b[39m\u001b[38;5;124mCan not squeeze with more than one column.\u001b[39m\u001b[38;5;124m\"\u001b[39m)\n\u001b[0;32m    756\u001b[0m     values \u001b[38;5;241m=\u001b[39m values[\u001b[38;5;241m0\u001b[39m, :]  \u001b[38;5;66;03m# type: ignore[call-overload]\u001b[39;00m\n\u001b[1;32m--> 758\u001b[0m new_values \u001b[38;5;241m=\u001b[39m astype_array_safe(values, dtype, copy\u001b[38;5;241m=\u001b[39mcopy, errors\u001b[38;5;241m=\u001b[39merrors)\n\u001b[0;32m    760\u001b[0m new_values \u001b[38;5;241m=\u001b[39m maybe_coerce_values(new_values)\n\u001b[0;32m    762\u001b[0m refs \u001b[38;5;241m=\u001b[39m \u001b[38;5;28;01mNone\u001b[39;00m\n",
      "File \u001b[1;32mc:\\Users\\jrsar\\anaconda3\\Lib\\site-packages\\pandas\\core\\dtypes\\astype.py:237\u001b[0m, in \u001b[0;36mastype_array_safe\u001b[1;34m(values, dtype, copy, errors)\u001b[0m\n\u001b[0;32m    234\u001b[0m     dtype \u001b[38;5;241m=\u001b[39m dtype\u001b[38;5;241m.\u001b[39mnumpy_dtype\n\u001b[0;32m    236\u001b[0m \u001b[38;5;28;01mtry\u001b[39;00m:\n\u001b[1;32m--> 237\u001b[0m     new_values \u001b[38;5;241m=\u001b[39m astype_array(values, dtype, copy\u001b[38;5;241m=\u001b[39mcopy)\n\u001b[0;32m    238\u001b[0m \u001b[38;5;28;01mexcept\u001b[39;00m (\u001b[38;5;167;01mValueError\u001b[39;00m, \u001b[38;5;167;01mTypeError\u001b[39;00m):\n\u001b[0;32m    239\u001b[0m     \u001b[38;5;66;03m# e.g. _astype_nansafe can fail on object-dtype of strings\u001b[39;00m\n\u001b[0;32m    240\u001b[0m     \u001b[38;5;66;03m#  trying to convert to float\u001b[39;00m\n\u001b[0;32m    241\u001b[0m     \u001b[38;5;28;01mif\u001b[39;00m errors \u001b[38;5;241m==\u001b[39m \u001b[38;5;124m\"\u001b[39m\u001b[38;5;124mignore\u001b[39m\u001b[38;5;124m\"\u001b[39m:\n",
      "File \u001b[1;32mc:\\Users\\jrsar\\anaconda3\\Lib\\site-packages\\pandas\\core\\dtypes\\astype.py:179\u001b[0m, in \u001b[0;36mastype_array\u001b[1;34m(values, dtype, copy)\u001b[0m\n\u001b[0;32m    175\u001b[0m     \u001b[38;5;28;01mreturn\u001b[39;00m values\n\u001b[0;32m    177\u001b[0m \u001b[38;5;28;01mif\u001b[39;00m \u001b[38;5;129;01mnot\u001b[39;00m \u001b[38;5;28misinstance\u001b[39m(values, np\u001b[38;5;241m.\u001b[39mndarray):\n\u001b[0;32m    178\u001b[0m     \u001b[38;5;66;03m# i.e. ExtensionArray\u001b[39;00m\n\u001b[1;32m--> 179\u001b[0m     values \u001b[38;5;241m=\u001b[39m values\u001b[38;5;241m.\u001b[39mastype(dtype, copy\u001b[38;5;241m=\u001b[39mcopy)\n\u001b[0;32m    181\u001b[0m \u001b[38;5;28;01melse\u001b[39;00m:\n\u001b[0;32m    182\u001b[0m     values \u001b[38;5;241m=\u001b[39m _astype_nansafe(values, dtype, copy\u001b[38;5;241m=\u001b[39mcopy)\n",
      "File \u001b[1;32mc:\\Users\\jrsar\\anaconda3\\Lib\\site-packages\\pandas\\core\\arrays\\datetimes.py:739\u001b[0m, in \u001b[0;36mDatetimeArray.astype\u001b[1;34m(self, dtype, copy)\u001b[0m\n\u001b[0;32m    737\u001b[0m \u001b[38;5;28;01melif\u001b[39;00m \u001b[38;5;28misinstance\u001b[39m(dtype, PeriodDtype):\n\u001b[0;32m    738\u001b[0m     \u001b[38;5;28;01mreturn\u001b[39;00m \u001b[38;5;28mself\u001b[39m\u001b[38;5;241m.\u001b[39mto_period(freq\u001b[38;5;241m=\u001b[39mdtype\u001b[38;5;241m.\u001b[39mfreq)\n\u001b[1;32m--> 739\u001b[0m \u001b[38;5;28;01mreturn\u001b[39;00m dtl\u001b[38;5;241m.\u001b[39mDatetimeLikeArrayMixin\u001b[38;5;241m.\u001b[39mastype(\u001b[38;5;28mself\u001b[39m, dtype, copy)\n",
      "File \u001b[1;32mc:\\Users\\jrsar\\anaconda3\\Lib\\site-packages\\pandas\\core\\arrays\\datetimelike.py:494\u001b[0m, in \u001b[0;36mDatetimeLikeArrayMixin.astype\u001b[1;34m(self, dtype, copy)\u001b[0m\n\u001b[0;32m    490\u001b[0m \u001b[38;5;28;01melif\u001b[39;00m (dtype\u001b[38;5;241m.\u001b[39mkind \u001b[38;5;129;01min\u001b[39;00m \u001b[38;5;124m\"\u001b[39m\u001b[38;5;124mmM\u001b[39m\u001b[38;5;124m\"\u001b[39m \u001b[38;5;129;01mand\u001b[39;00m \u001b[38;5;28mself\u001b[39m\u001b[38;5;241m.\u001b[39mdtype \u001b[38;5;241m!=\u001b[39m dtype) \u001b[38;5;129;01mor\u001b[39;00m dtype\u001b[38;5;241m.\u001b[39mkind \u001b[38;5;241m==\u001b[39m \u001b[38;5;124m\"\u001b[39m\u001b[38;5;124mf\u001b[39m\u001b[38;5;124m\"\u001b[39m:\n\u001b[0;32m    491\u001b[0m     \u001b[38;5;66;03m# disallow conversion between datetime/timedelta,\u001b[39;00m\n\u001b[0;32m    492\u001b[0m     \u001b[38;5;66;03m# and conversions for any datetimelike to float\u001b[39;00m\n\u001b[0;32m    493\u001b[0m     msg \u001b[38;5;241m=\u001b[39m \u001b[38;5;124mf\u001b[39m\u001b[38;5;124m\"\u001b[39m\u001b[38;5;124mCannot cast \u001b[39m\u001b[38;5;132;01m{\u001b[39;00m\u001b[38;5;28mtype\u001b[39m(\u001b[38;5;28mself\u001b[39m)\u001b[38;5;241m.\u001b[39m\u001b[38;5;18m__name__\u001b[39m\u001b[38;5;132;01m}\u001b[39;00m\u001b[38;5;124m to dtype \u001b[39m\u001b[38;5;132;01m{\u001b[39;00mdtype\u001b[38;5;132;01m}\u001b[39;00m\u001b[38;5;124m\"\u001b[39m\n\u001b[1;32m--> 494\u001b[0m     \u001b[38;5;28;01mraise\u001b[39;00m \u001b[38;5;167;01mTypeError\u001b[39;00m(msg)\n\u001b[0;32m    495\u001b[0m \u001b[38;5;28;01melse\u001b[39;00m:\n\u001b[0;32m    496\u001b[0m     \u001b[38;5;28;01mreturn\u001b[39;00m np\u001b[38;5;241m.\u001b[39masarray(\u001b[38;5;28mself\u001b[39m, dtype\u001b[38;5;241m=\u001b[39mdtype)\n",
      "\u001b[1;31mTypeError\u001b[0m: Cannot cast DatetimeArray to dtype float64"
     ]
    }
   ],
   "source": [
    "ctgan = CTGAN(epochs=300, batch_size=500)\n",
    "ctgan.fit(train_data, discrete_columns=categorical_columns)\n"
   ]
  },
  {
   "cell_type": "code",
   "execution_count": 49,
   "metadata": {},
   "outputs": [
    {
     "name": "stdout",
     "output_type": "stream",
     "text": [
      "date                  datetime64[ns]\n",
      "temp (°c)                    float64\n",
      "humidity (%)                 float64\n",
      "season                        object\n",
      "solar energy (kwh)           float64\n",
      "precipitation (mm)           float64\n",
      "population                   float64\n",
      "total usage (kwh)            float64\n",
      "urban usage (kwh)            float64\n",
      "rural usage (kwh)            float64\n",
      "residential_kwh              float64\n",
      "commercial_kwh               float64\n",
      "industrial_kwh               float64\n",
      "agricultural_kwh             float64\n",
      "covid_effect                   int64\n",
      "avg_temperature              float64\n",
      "avg_humidity                 float64\n",
      "solarenergy                  float64\n",
      "weather_conditions            object\n",
      "dtype: object\n"
     ]
    }
   ],
   "source": [
    "print(train_data.dtypes)\n"
   ]
  },
  {
   "cell_type": "code",
   "execution_count": 35,
   "metadata": {},
   "outputs": [
    {
     "data": {
      "text/html": [
       "<div>\n",
       "<style scoped>\n",
       "    .dataframe tbody tr th:only-of-type {\n",
       "        vertical-align: middle;\n",
       "    }\n",
       "\n",
       "    .dataframe tbody tr th {\n",
       "        vertical-align: top;\n",
       "    }\n",
       "\n",
       "    .dataframe thead th {\n",
       "        text-align: right;\n",
       "    }\n",
       "</style>\n",
       "<table border=\"1\" class=\"dataframe\">\n",
       "  <thead>\n",
       "    <tr style=\"text-align: right;\">\n",
       "      <th></th>\n",
       "      <th>temp (°c)</th>\n",
       "      <th>humidity (%)</th>\n",
       "      <th>season</th>\n",
       "      <th>solar energy (kwh)</th>\n",
       "      <th>precipitation (mm)</th>\n",
       "      <th>population</th>\n",
       "      <th>total usage (kwh)</th>\n",
       "      <th>urban usage (kwh)</th>\n",
       "      <th>rural usage (kwh)</th>\n",
       "      <th>residential_kwh</th>\n",
       "      <th>commercial_kwh</th>\n",
       "      <th>industrial_kwh</th>\n",
       "      <th>agricultural_kwh</th>\n",
       "      <th>covid_effect</th>\n",
       "      <th>avg_temperature</th>\n",
       "      <th>avg_humidity</th>\n",
       "      <th>solarenergy</th>\n",
       "      <th>weather_conditions</th>\n",
       "    </tr>\n",
       "  </thead>\n",
       "  <tbody>\n",
       "    <tr>\n",
       "      <th>30</th>\n",
       "      <td>20.7</td>\n",
       "      <td>47.9</td>\n",
       "      <td>Winter</td>\n",
       "      <td>21.4</td>\n",
       "      <td>0.0</td>\n",
       "      <td>3130000.0</td>\n",
       "      <td>3140.000000</td>\n",
       "      <td>2198.000000</td>\n",
       "      <td>942.000000</td>\n",
       "      <td>1099.000000</td>\n",
       "      <td>785.000000</td>\n",
       "      <td>942.000000</td>\n",
       "      <td>314.000000</td>\n",
       "      <td>0</td>\n",
       "      <td>19.8</td>\n",
       "      <td>54.9</td>\n",
       "      <td>21.0</td>\n",
       "      <td>Clear</td>\n",
       "    </tr>\n",
       "    <tr>\n",
       "      <th>1178</th>\n",
       "      <td>26.5</td>\n",
       "      <td>55.8</td>\n",
       "      <td>Summer</td>\n",
       "      <td>20.9</td>\n",
       "      <td>0.1</td>\n",
       "      <td>3130000.0</td>\n",
       "      <td>3506.819147</td>\n",
       "      <td>2001.325000</td>\n",
       "      <td>850.530000</td>\n",
       "      <td>1227.386702</td>\n",
       "      <td>876.704787</td>\n",
       "      <td>1052.045744</td>\n",
       "      <td>350.681915</td>\n",
       "      <td>2</td>\n",
       "      <td>27.8</td>\n",
       "      <td>56.5</td>\n",
       "      <td>17.1</td>\n",
       "      <td>Rain, Partially cloudy</td>\n",
       "    </tr>\n",
       "    <tr>\n",
       "      <th>1628</th>\n",
       "      <td>26.8</td>\n",
       "      <td>74.1</td>\n",
       "      <td>Monsoon</td>\n",
       "      <td>16.4</td>\n",
       "      <td>NaN</td>\n",
       "      <td>NaN</td>\n",
       "      <td>3625.938090</td>\n",
       "      <td>2538.156663</td>\n",
       "      <td>1087.781427</td>\n",
       "      <td>1269.078332</td>\n",
       "      <td>906.484523</td>\n",
       "      <td>1087.781427</td>\n",
       "      <td>362.593809</td>\n",
       "      <td>2</td>\n",
       "      <td>27.4</td>\n",
       "      <td>73.4</td>\n",
       "      <td>20.3</td>\n",
       "      <td>Rain, Partially cloudy</td>\n",
       "    </tr>\n",
       "    <tr>\n",
       "      <th>764</th>\n",
       "      <td>21.6</td>\n",
       "      <td>70.7</td>\n",
       "      <td>Winter</td>\n",
       "      <td>18.4</td>\n",
       "      <td>0.0</td>\n",
       "      <td>3130000.0</td>\n",
       "      <td>3229.726703</td>\n",
       "      <td>2001.080000</td>\n",
       "      <td>850.432000</td>\n",
       "      <td>1356.485215</td>\n",
       "      <td>403.715838</td>\n",
       "      <td>678.242608</td>\n",
       "      <td>322.972670</td>\n",
       "      <td>1</td>\n",
       "      <td>20.5</td>\n",
       "      <td>52.5</td>\n",
       "      <td>21.1</td>\n",
       "      <td>Clear</td>\n",
       "    </tr>\n",
       "    <tr>\n",
       "      <th>1317</th>\n",
       "      <td>24.2</td>\n",
       "      <td>85.3</td>\n",
       "      <td>Monsoon</td>\n",
       "      <td>15.1</td>\n",
       "      <td>0.7</td>\n",
       "      <td>3130000.0</td>\n",
       "      <td>2851.694000</td>\n",
       "      <td>2001.210000</td>\n",
       "      <td>850.484000</td>\n",
       "      <td>998.092900</td>\n",
       "      <td>712.923500</td>\n",
       "      <td>855.508200</td>\n",
       "      <td>285.169400</td>\n",
       "      <td>2</td>\n",
       "      <td>22.9</td>\n",
       "      <td>92.1</td>\n",
       "      <td>10.9</td>\n",
       "      <td>Rain, Overcast</td>\n",
       "    </tr>\n",
       "    <tr>\n",
       "      <th>...</th>\n",
       "      <td>...</td>\n",
       "      <td>...</td>\n",
       "      <td>...</td>\n",
       "      <td>...</td>\n",
       "      <td>...</td>\n",
       "      <td>...</td>\n",
       "      <td>...</td>\n",
       "      <td>...</td>\n",
       "      <td>...</td>\n",
       "      <td>...</td>\n",
       "      <td>...</td>\n",
       "      <td>...</td>\n",
       "      <td>...</td>\n",
       "      <td>...</td>\n",
       "      <td>...</td>\n",
       "      <td>...</td>\n",
       "      <td>...</td>\n",
       "      <td>...</td>\n",
       "    </tr>\n",
       "    <tr>\n",
       "      <th>1638</th>\n",
       "      <td>24.2</td>\n",
       "      <td>87.1</td>\n",
       "      <td>Monsoon</td>\n",
       "      <td>9.1</td>\n",
       "      <td>NaN</td>\n",
       "      <td>NaN</td>\n",
       "      <td>3496.676327</td>\n",
       "      <td>2447.673429</td>\n",
       "      <td>1049.002898</td>\n",
       "      <td>1223.836715</td>\n",
       "      <td>874.169082</td>\n",
       "      <td>1049.002898</td>\n",
       "      <td>349.667633</td>\n",
       "      <td>2</td>\n",
       "      <td>23.6</td>\n",
       "      <td>94.5</td>\n",
       "      <td>3.6</td>\n",
       "      <td>Rain, Overcast</td>\n",
       "    </tr>\n",
       "    <tr>\n",
       "      <th>1095</th>\n",
       "      <td>20.6</td>\n",
       "      <td>70.2</td>\n",
       "      <td>Winter</td>\n",
       "      <td>17.5</td>\n",
       "      <td>0.0</td>\n",
       "      <td>3130000.0</td>\n",
       "      <td>3375.384807</td>\n",
       "      <td>2001.030000</td>\n",
       "      <td>850.412000</td>\n",
       "      <td>1181.384682</td>\n",
       "      <td>843.846202</td>\n",
       "      <td>1012.615442</td>\n",
       "      <td>337.538481</td>\n",
       "      <td>2</td>\n",
       "      <td>19.9</td>\n",
       "      <td>77.0</td>\n",
       "      <td>17.2</td>\n",
       "      <td>Partially cloudy</td>\n",
       "    </tr>\n",
       "    <tr>\n",
       "      <th>1130</th>\n",
       "      <td>20.7</td>\n",
       "      <td>55.2</td>\n",
       "      <td>Winter</td>\n",
       "      <td>21.1</td>\n",
       "      <td>0.0</td>\n",
       "      <td>3130000.0</td>\n",
       "      <td>3150.081193</td>\n",
       "      <td>2001.035000</td>\n",
       "      <td>850.414000</td>\n",
       "      <td>1102.528418</td>\n",
       "      <td>787.520298</td>\n",
       "      <td>945.024358</td>\n",
       "      <td>315.008119</td>\n",
       "      <td>2</td>\n",
       "      <td>19.7</td>\n",
       "      <td>66.7</td>\n",
       "      <td>19.6</td>\n",
       "      <td>Partially cloudy</td>\n",
       "    </tr>\n",
       "    <tr>\n",
       "      <th>1294</th>\n",
       "      <td>24.2</td>\n",
       "      <td>89.8</td>\n",
       "      <td>Monsoon</td>\n",
       "      <td>7.4</td>\n",
       "      <td>10.0</td>\n",
       "      <td>3130000.0</td>\n",
       "      <td>2851.694000</td>\n",
       "      <td>2001.210000</td>\n",
       "      <td>850.484000</td>\n",
       "      <td>998.092900</td>\n",
       "      <td>712.923500</td>\n",
       "      <td>855.508200</td>\n",
       "      <td>285.169400</td>\n",
       "      <td>2</td>\n",
       "      <td>23.1</td>\n",
       "      <td>92.1</td>\n",
       "      <td>5.6</td>\n",
       "      <td>Rain, Overcast</td>\n",
       "    </tr>\n",
       "    <tr>\n",
       "      <th>860</th>\n",
       "      <td>29.9</td>\n",
       "      <td>59.1</td>\n",
       "      <td>Summer</td>\n",
       "      <td>23.3</td>\n",
       "      <td>0.4</td>\n",
       "      <td>3130000.0</td>\n",
       "      <td>2742.896547</td>\n",
       "      <td>1401.046500</td>\n",
       "      <td>850.598000</td>\n",
       "      <td>1152.016550</td>\n",
       "      <td>342.862068</td>\n",
       "      <td>576.008275</td>\n",
       "      <td>274.289655</td>\n",
       "      <td>1</td>\n",
       "      <td>29.1</td>\n",
       "      <td>59.7</td>\n",
       "      <td>24.6</td>\n",
       "      <td>Clear</td>\n",
       "    </tr>\n",
       "  </tbody>\n",
       "</table>\n",
       "<p>1676 rows × 18 columns</p>\n",
       "</div>"
      ],
      "text/plain": [
       "      temp (°c)  humidity (%)   season  solar energy (kwh)  \\\n",
       "30         20.7          47.9   Winter                21.4   \n",
       "1178       26.5          55.8   Summer                20.9   \n",
       "1628       26.8          74.1  Monsoon                16.4   \n",
       "764        21.6          70.7   Winter                18.4   \n",
       "1317       24.2          85.3  Monsoon                15.1   \n",
       "...         ...           ...      ...                 ...   \n",
       "1638       24.2          87.1  Monsoon                 9.1   \n",
       "1095       20.6          70.2   Winter                17.5   \n",
       "1130       20.7          55.2   Winter                21.1   \n",
       "1294       24.2          89.8  Monsoon                 7.4   \n",
       "860        29.9          59.1   Summer                23.3   \n",
       "\n",
       "      precipitation (mm)  population  total usage (kwh)  urban usage (kwh)  \\\n",
       "30                   0.0   3130000.0        3140.000000        2198.000000   \n",
       "1178                 0.1   3130000.0        3506.819147        2001.325000   \n",
       "1628                 NaN         NaN        3625.938090        2538.156663   \n",
       "764                  0.0   3130000.0        3229.726703        2001.080000   \n",
       "1317                 0.7   3130000.0        2851.694000        2001.210000   \n",
       "...                  ...         ...                ...                ...   \n",
       "1638                 NaN         NaN        3496.676327        2447.673429   \n",
       "1095                 0.0   3130000.0        3375.384807        2001.030000   \n",
       "1130                 0.0   3130000.0        3150.081193        2001.035000   \n",
       "1294                10.0   3130000.0        2851.694000        2001.210000   \n",
       "860                  0.4   3130000.0        2742.896547        1401.046500   \n",
       "\n",
       "      rural usage (kwh)  residential_kwh  commercial_kwh  industrial_kwh  \\\n",
       "30           942.000000      1099.000000      785.000000      942.000000   \n",
       "1178         850.530000      1227.386702      876.704787     1052.045744   \n",
       "1628        1087.781427      1269.078332      906.484523     1087.781427   \n",
       "764          850.432000      1356.485215      403.715838      678.242608   \n",
       "1317         850.484000       998.092900      712.923500      855.508200   \n",
       "...                 ...              ...             ...             ...   \n",
       "1638        1049.002898      1223.836715      874.169082     1049.002898   \n",
       "1095         850.412000      1181.384682      843.846202     1012.615442   \n",
       "1130         850.414000      1102.528418      787.520298      945.024358   \n",
       "1294         850.484000       998.092900      712.923500      855.508200   \n",
       "860          850.598000      1152.016550      342.862068      576.008275   \n",
       "\n",
       "      agricultural_kwh  covid_effect  avg_temperature  avg_humidity  \\\n",
       "30          314.000000             0             19.8          54.9   \n",
       "1178        350.681915             2             27.8          56.5   \n",
       "1628        362.593809             2             27.4          73.4   \n",
       "764         322.972670             1             20.5          52.5   \n",
       "1317        285.169400             2             22.9          92.1   \n",
       "...                ...           ...              ...           ...   \n",
       "1638        349.667633             2             23.6          94.5   \n",
       "1095        337.538481             2             19.9          77.0   \n",
       "1130        315.008119             2             19.7          66.7   \n",
       "1294        285.169400             2             23.1          92.1   \n",
       "860         274.289655             1             29.1          59.7   \n",
       "\n",
       "      solarenergy      weather_conditions  \n",
       "30           21.0                   Clear  \n",
       "1178         17.1  Rain, Partially cloudy  \n",
       "1628         20.3  Rain, Partially cloudy  \n",
       "764          21.1                   Clear  \n",
       "1317         10.9          Rain, Overcast  \n",
       "...           ...                     ...  \n",
       "1638          3.6          Rain, Overcast  \n",
       "1095         17.2        Partially cloudy  \n",
       "1130         19.6        Partially cloudy  \n",
       "1294          5.6          Rain, Overcast  \n",
       "860          24.6                   Clear  \n",
       "\n",
       "[1676 rows x 18 columns]"
      ]
     },
     "execution_count": 35,
     "metadata": {},
     "output_type": "execute_result"
    }
   ],
   "source": [
    "train_data.drop('date', axis=1, errors='ignore')"
   ]
  },
  {
   "cell_type": "code",
   "execution_count": 36,
   "metadata": {},
   "outputs": [
    {
     "data": {
      "text/html": [
       "<div>\n",
       "<style scoped>\n",
       "    .dataframe tbody tr th:only-of-type {\n",
       "        vertical-align: middle;\n",
       "    }\n",
       "\n",
       "    .dataframe tbody tr th {\n",
       "        vertical-align: top;\n",
       "    }\n",
       "\n",
       "    .dataframe thead th {\n",
       "        text-align: right;\n",
       "    }\n",
       "</style>\n",
       "<table border=\"1\" class=\"dataframe\">\n",
       "  <thead>\n",
       "    <tr style=\"text-align: right;\">\n",
       "      <th></th>\n",
       "      <th>date</th>\n",
       "      <th>temp (°c)</th>\n",
       "      <th>humidity (%)</th>\n",
       "      <th>season</th>\n",
       "      <th>solar energy (kwh)</th>\n",
       "      <th>precipitation (mm)</th>\n",
       "      <th>population</th>\n",
       "      <th>total usage (kwh)</th>\n",
       "      <th>urban usage (kwh)</th>\n",
       "      <th>rural usage (kwh)</th>\n",
       "      <th>residential_kwh</th>\n",
       "      <th>commercial_kwh</th>\n",
       "      <th>industrial_kwh</th>\n",
       "      <th>agricultural_kwh</th>\n",
       "      <th>covid_effect</th>\n",
       "      <th>avg_temperature</th>\n",
       "      <th>avg_humidity</th>\n",
       "      <th>solarenergy</th>\n",
       "      <th>weather_conditions</th>\n",
       "    </tr>\n",
       "  </thead>\n",
       "  <tbody>\n",
       "    <tr>\n",
       "      <th>30</th>\n",
       "      <td>2019-01-31</td>\n",
       "      <td>20.7</td>\n",
       "      <td>47.9</td>\n",
       "      <td>Winter</td>\n",
       "      <td>21.4</td>\n",
       "      <td>0.0</td>\n",
       "      <td>3130000.0</td>\n",
       "      <td>3140.000000</td>\n",
       "      <td>2198.000000</td>\n",
       "      <td>942.000000</td>\n",
       "      <td>1099.000000</td>\n",
       "      <td>785.000000</td>\n",
       "      <td>942.000000</td>\n",
       "      <td>314.000000</td>\n",
       "      <td>0</td>\n",
       "      <td>19.8</td>\n",
       "      <td>54.9</td>\n",
       "      <td>21.0</td>\n",
       "      <td>Clear</td>\n",
       "    </tr>\n",
       "    <tr>\n",
       "      <th>1178</th>\n",
       "      <td>2022-03-24</td>\n",
       "      <td>26.5</td>\n",
       "      <td>55.8</td>\n",
       "      <td>Summer</td>\n",
       "      <td>20.9</td>\n",
       "      <td>0.1</td>\n",
       "      <td>3130000.0</td>\n",
       "      <td>3506.819147</td>\n",
       "      <td>2001.325000</td>\n",
       "      <td>850.530000</td>\n",
       "      <td>1227.386702</td>\n",
       "      <td>876.704787</td>\n",
       "      <td>1052.045744</td>\n",
       "      <td>350.681915</td>\n",
       "      <td>2</td>\n",
       "      <td>27.8</td>\n",
       "      <td>56.5</td>\n",
       "      <td>17.1</td>\n",
       "      <td>Rain, Partially cloudy</td>\n",
       "    </tr>\n",
       "    <tr>\n",
       "      <th>1628</th>\n",
       "      <td>2023-06-17</td>\n",
       "      <td>26.8</td>\n",
       "      <td>74.1</td>\n",
       "      <td>Monsoon</td>\n",
       "      <td>16.4</td>\n",
       "      <td>NaN</td>\n",
       "      <td>NaN</td>\n",
       "      <td>3625.938090</td>\n",
       "      <td>2538.156663</td>\n",
       "      <td>1087.781427</td>\n",
       "      <td>1269.078332</td>\n",
       "      <td>906.484523</td>\n",
       "      <td>1087.781427</td>\n",
       "      <td>362.593809</td>\n",
       "      <td>2</td>\n",
       "      <td>27.4</td>\n",
       "      <td>73.4</td>\n",
       "      <td>20.3</td>\n",
       "      <td>Rain, Partially cloudy</td>\n",
       "    </tr>\n",
       "    <tr>\n",
       "      <th>764</th>\n",
       "      <td>2021-02-03</td>\n",
       "      <td>21.6</td>\n",
       "      <td>70.7</td>\n",
       "      <td>Winter</td>\n",
       "      <td>18.4</td>\n",
       "      <td>0.0</td>\n",
       "      <td>3130000.0</td>\n",
       "      <td>3229.726703</td>\n",
       "      <td>2001.080000</td>\n",
       "      <td>850.432000</td>\n",
       "      <td>1356.485215</td>\n",
       "      <td>403.715838</td>\n",
       "      <td>678.242608</td>\n",
       "      <td>322.972670</td>\n",
       "      <td>1</td>\n",
       "      <td>20.5</td>\n",
       "      <td>52.5</td>\n",
       "      <td>21.1</td>\n",
       "      <td>Clear</td>\n",
       "    </tr>\n",
       "    <tr>\n",
       "      <th>1317</th>\n",
       "      <td>2022-08-10</td>\n",
       "      <td>24.2</td>\n",
       "      <td>85.3</td>\n",
       "      <td>Monsoon</td>\n",
       "      <td>15.1</td>\n",
       "      <td>0.7</td>\n",
       "      <td>3130000.0</td>\n",
       "      <td>2851.694000</td>\n",
       "      <td>2001.210000</td>\n",
       "      <td>850.484000</td>\n",
       "      <td>998.092900</td>\n",
       "      <td>712.923500</td>\n",
       "      <td>855.508200</td>\n",
       "      <td>285.169400</td>\n",
       "      <td>2</td>\n",
       "      <td>22.9</td>\n",
       "      <td>92.1</td>\n",
       "      <td>10.9</td>\n",
       "      <td>Rain, Overcast</td>\n",
       "    </tr>\n",
       "  </tbody>\n",
       "</table>\n",
       "</div>"
      ],
      "text/plain": [
       "           date  temp (°c)  humidity (%)   season  solar energy (kwh)  \\\n",
       "30   2019-01-31       20.7          47.9   Winter                21.4   \n",
       "1178 2022-03-24       26.5          55.8   Summer                20.9   \n",
       "1628 2023-06-17       26.8          74.1  Monsoon                16.4   \n",
       "764  2021-02-03       21.6          70.7   Winter                18.4   \n",
       "1317 2022-08-10       24.2          85.3  Monsoon                15.1   \n",
       "\n",
       "      precipitation (mm)  population  total usage (kwh)  urban usage (kwh)  \\\n",
       "30                   0.0   3130000.0        3140.000000        2198.000000   \n",
       "1178                 0.1   3130000.0        3506.819147        2001.325000   \n",
       "1628                 NaN         NaN        3625.938090        2538.156663   \n",
       "764                  0.0   3130000.0        3229.726703        2001.080000   \n",
       "1317                 0.7   3130000.0        2851.694000        2001.210000   \n",
       "\n",
       "      rural usage (kwh)  residential_kwh  commercial_kwh  industrial_kwh  \\\n",
       "30           942.000000      1099.000000      785.000000      942.000000   \n",
       "1178         850.530000      1227.386702      876.704787     1052.045744   \n",
       "1628        1087.781427      1269.078332      906.484523     1087.781427   \n",
       "764          850.432000      1356.485215      403.715838      678.242608   \n",
       "1317         850.484000       998.092900      712.923500      855.508200   \n",
       "\n",
       "      agricultural_kwh  covid_effect  avg_temperature  avg_humidity  \\\n",
       "30          314.000000             0             19.8          54.9   \n",
       "1178        350.681915             2             27.8          56.5   \n",
       "1628        362.593809             2             27.4          73.4   \n",
       "764         322.972670             1             20.5          52.5   \n",
       "1317        285.169400             2             22.9          92.1   \n",
       "\n",
       "      solarenergy      weather_conditions  \n",
       "30           21.0                   Clear  \n",
       "1178         17.1  Rain, Partially cloudy  \n",
       "1628         20.3  Rain, Partially cloudy  \n",
       "764          21.1                   Clear  \n",
       "1317         10.9          Rain, Overcast  "
      ]
     },
     "execution_count": 36,
     "metadata": {},
     "output_type": "execute_result"
    }
   ],
   "source": [
    "train_data.head()"
   ]
  },
  {
   "cell_type": "code",
   "execution_count": 58,
   "metadata": {},
   "outputs": [],
   "source": [
    "train_data['year'] = train_data['date'].dt.year\n",
    "train_data['month'] = train_data['date'].dt.month\n",
    "train_data['day'] = train_data['date'].dt.day\n",
    "train_data['weekday'] = train_data['date'].dt.weekday\n",
    "train_data.drop('date', axis=1, inplace=True)\n"
   ]
  },
  {
   "cell_type": "code",
   "execution_count": 59,
   "metadata": {},
   "outputs": [],
   "source": [
    "ctgan = CTGAN(epochs=300, batch_size=500)\n",
    "ctgan.fit(train_data, discrete_columns=categorical_columns)\n"
   ]
  },
  {
   "cell_type": "code",
   "execution_count": 68,
   "metadata": {},
   "outputs": [
    {
     "name": "stdout",
     "output_type": "stream",
     "text": [
      "Transformed data shape: (1676, 165)\n"
     ]
    }
   ],
   "source": [
    "from ctgan import CTGAN\n",
    "from ctgan.data_transformer import DataTransformer\n",
    "\n",
    "transformer = DataTransformer()\n",
    "transformer.fit(train_data, discrete_columns=categorical_columns)\n",
    "transformed_data = transformer.transform(train_data)\n",
    "\n",
    "print(\"Transformed data shape:\", transformed_data.shape)\n"
   ]
  },
  {
   "cell_type": "code",
   "execution_count": 70,
   "metadata": {},
   "outputs": [],
   "source": [
    "from ctgan import CTGAN\n",
    "\n",
    "ctgan = CTGAN()\n",
    "ctgan.fit(transformed_data, epochs=300)\n"
   ]
  },
  {
   "cell_type": "code",
   "execution_count": 71,
   "metadata": {},
   "outputs": [
    {
     "name": "stdout",
     "output_type": "stream",
     "text": [
      "Synthetic data shape: (1676, 165)\n"
     ]
    }
   ],
   "source": [
    "num_samples = len(train_data)\n",
    "synthetic_data = ctgan.sample(num_samples)\n",
    "print(\"Synthetic data shape:\", synthetic_data.shape)"
   ]
  },
  {
   "cell_type": "code",
   "execution_count": 75,
   "metadata": {},
   "outputs": [],
   "source": [
    "\n",
    "if synthetic_data.shape[1] != transformed_data.shape[1]:\n",
    "    print(\"Shape mismatch detected.\")\n",
    "    raise ValueError(f\"Synthetic data columns: {synthetic_data.shape[1]}, \"\n",
    "                     f\"Expected: {transformed_data.shape[1]}\")\n",
    "\n"
   ]
  },
  {
   "cell_type": "code",
   "execution_count": 80,
   "metadata": {},
   "outputs": [
    {
     "name": "stdout",
     "output_type": "stream",
     "text": [
      "Train data shape: (1676, 22)\n",
      "Synthetic data shape: (1676, 165)\n"
     ]
    }
   ],
   "source": [
    "print(\"Train data shape:\", train_data.shape)\n",
    "print(\"Synthetic data shape:\", synthetic_data.shape)\n"
   ]
  },
  {
   "cell_type": "code",
   "execution_count": 81,
   "metadata": {},
   "outputs": [
    {
     "ename": "ValueError",
     "evalue": "Shape of passed values is (1676, 2), indices imply (1676, 3)",
     "output_type": "error",
     "traceback": [
      "\u001b[1;31m---------------------------------------------------------------------------\u001b[0m",
      "\u001b[1;31mValueError\u001b[0m                                Traceback (most recent call last)",
      "Cell \u001b[1;32mIn[81], line 1\u001b[0m\n\u001b[1;32m----> 1\u001b[0m recovered_data \u001b[38;5;241m=\u001b[39m transformer\u001b[38;5;241m.\u001b[39minverse_transform(synthetic_data)\n",
      "File \u001b[1;32mc:\\Users\\jrsar\\anaconda3\\Lib\\site-packages\\ctgan\\data_transformer.py:219\u001b[0m, in \u001b[0;36mDataTransformer.inverse_transform\u001b[1;34m(self, data, sigmas)\u001b[0m\n\u001b[0;32m    217\u001b[0m column_data \u001b[38;5;241m=\u001b[39m data[:, st : st \u001b[38;5;241m+\u001b[39m dim]\n\u001b[0;32m    218\u001b[0m \u001b[38;5;28;01mif\u001b[39;00m column_transform_info\u001b[38;5;241m.\u001b[39mcolumn_type \u001b[38;5;241m==\u001b[39m \u001b[38;5;124m'\u001b[39m\u001b[38;5;124mcontinuous\u001b[39m\u001b[38;5;124m'\u001b[39m:\n\u001b[1;32m--> 219\u001b[0m     recovered_column_data \u001b[38;5;241m=\u001b[39m \u001b[38;5;28mself\u001b[39m\u001b[38;5;241m.\u001b[39m_inverse_transform_continuous(\n\u001b[0;32m    220\u001b[0m         column_transform_info, column_data, sigmas, st\n\u001b[0;32m    221\u001b[0m     )\n\u001b[0;32m    222\u001b[0m \u001b[38;5;28;01melse\u001b[39;00m:\n\u001b[0;32m    223\u001b[0m     recovered_column_data \u001b[38;5;241m=\u001b[39m \u001b[38;5;28mself\u001b[39m\u001b[38;5;241m.\u001b[39m_inverse_transform_discrete(\n\u001b[0;32m    224\u001b[0m         column_transform_info, column_data\n\u001b[0;32m    225\u001b[0m     )\n",
      "File \u001b[1;32mc:\\Users\\jrsar\\anaconda3\\Lib\\site-packages\\ctgan\\data_transformer.py:193\u001b[0m, in \u001b[0;36mDataTransformer._inverse_transform_continuous\u001b[1;34m(self, column_transform_info, column_data, sigmas, st)\u001b[0m\n\u001b[0;32m    191\u001b[0m \u001b[38;5;28;01mdef\u001b[39;00m \u001b[38;5;21m_inverse_transform_continuous\u001b[39m(\u001b[38;5;28mself\u001b[39m, column_transform_info, column_data, sigmas, st):\n\u001b[0;32m    192\u001b[0m     gm \u001b[38;5;241m=\u001b[39m column_transform_info\u001b[38;5;241m.\u001b[39mtransform\n\u001b[1;32m--> 193\u001b[0m     data \u001b[38;5;241m=\u001b[39m pd\u001b[38;5;241m.\u001b[39mDataFrame(column_data[:, :\u001b[38;5;241m2\u001b[39m], columns\u001b[38;5;241m=\u001b[39m\u001b[38;5;28mlist\u001b[39m(gm\u001b[38;5;241m.\u001b[39mget_output_sdtypes()))\u001b[38;5;241m.\u001b[39mastype(\u001b[38;5;28mfloat\u001b[39m)\n\u001b[0;32m    194\u001b[0m     data[data\u001b[38;5;241m.\u001b[39mcolumns[\u001b[38;5;241m1\u001b[39m]] \u001b[38;5;241m=\u001b[39m np\u001b[38;5;241m.\u001b[39margmax(column_data[:, \u001b[38;5;241m1\u001b[39m:], axis\u001b[38;5;241m=\u001b[39m\u001b[38;5;241m1\u001b[39m)\n\u001b[0;32m    195\u001b[0m     \u001b[38;5;28;01mif\u001b[39;00m sigmas \u001b[38;5;129;01mis\u001b[39;00m \u001b[38;5;129;01mnot\u001b[39;00m \u001b[38;5;28;01mNone\u001b[39;00m:\n",
      "File \u001b[1;32mc:\\Users\\jrsar\\anaconda3\\Lib\\site-packages\\pandas\\core\\frame.py:827\u001b[0m, in \u001b[0;36mDataFrame.__init__\u001b[1;34m(self, data, index, columns, dtype, copy)\u001b[0m\n\u001b[0;32m    816\u001b[0m         mgr \u001b[38;5;241m=\u001b[39m dict_to_mgr(\n\u001b[0;32m    817\u001b[0m             \u001b[38;5;66;03m# error: Item \"ndarray\" of \"Union[ndarray, Series, Index]\" has no\u001b[39;00m\n\u001b[0;32m    818\u001b[0m             \u001b[38;5;66;03m# attribute \"name\"\u001b[39;00m\n\u001b[1;32m   (...)\u001b[0m\n\u001b[0;32m    824\u001b[0m             copy\u001b[38;5;241m=\u001b[39m_copy,\n\u001b[0;32m    825\u001b[0m         )\n\u001b[0;32m    826\u001b[0m     \u001b[38;5;28;01melse\u001b[39;00m:\n\u001b[1;32m--> 827\u001b[0m         mgr \u001b[38;5;241m=\u001b[39m ndarray_to_mgr(\n\u001b[0;32m    828\u001b[0m             data,\n\u001b[0;32m    829\u001b[0m             index,\n\u001b[0;32m    830\u001b[0m             columns,\n\u001b[0;32m    831\u001b[0m             dtype\u001b[38;5;241m=\u001b[39mdtype,\n\u001b[0;32m    832\u001b[0m             copy\u001b[38;5;241m=\u001b[39mcopy,\n\u001b[0;32m    833\u001b[0m             typ\u001b[38;5;241m=\u001b[39mmanager,\n\u001b[0;32m    834\u001b[0m         )\n\u001b[0;32m    836\u001b[0m \u001b[38;5;66;03m# For data is list-like, or Iterable (will consume into list)\u001b[39;00m\n\u001b[0;32m    837\u001b[0m \u001b[38;5;28;01melif\u001b[39;00m is_list_like(data):\n",
      "File \u001b[1;32mc:\\Users\\jrsar\\anaconda3\\Lib\\site-packages\\pandas\\core\\internals\\construction.py:336\u001b[0m, in \u001b[0;36mndarray_to_mgr\u001b[1;34m(values, index, columns, dtype, copy, typ)\u001b[0m\n\u001b[0;32m    331\u001b[0m \u001b[38;5;66;03m# _prep_ndarraylike ensures that values.ndim == 2 at this point\u001b[39;00m\n\u001b[0;32m    332\u001b[0m index, columns \u001b[38;5;241m=\u001b[39m _get_axes(\n\u001b[0;32m    333\u001b[0m     values\u001b[38;5;241m.\u001b[39mshape[\u001b[38;5;241m0\u001b[39m], values\u001b[38;5;241m.\u001b[39mshape[\u001b[38;5;241m1\u001b[39m], index\u001b[38;5;241m=\u001b[39mindex, columns\u001b[38;5;241m=\u001b[39mcolumns\n\u001b[0;32m    334\u001b[0m )\n\u001b[1;32m--> 336\u001b[0m _check_values_indices_shape_match(values, index, columns)\n\u001b[0;32m    338\u001b[0m \u001b[38;5;28;01mif\u001b[39;00m typ \u001b[38;5;241m==\u001b[39m \u001b[38;5;124m\"\u001b[39m\u001b[38;5;124marray\u001b[39m\u001b[38;5;124m\"\u001b[39m:\n\u001b[0;32m    339\u001b[0m     \u001b[38;5;28;01mif\u001b[39;00m \u001b[38;5;28missubclass\u001b[39m(values\u001b[38;5;241m.\u001b[39mdtype\u001b[38;5;241m.\u001b[39mtype, \u001b[38;5;28mstr\u001b[39m):\n",
      "File \u001b[1;32mc:\\Users\\jrsar\\anaconda3\\Lib\\site-packages\\pandas\\core\\internals\\construction.py:420\u001b[0m, in \u001b[0;36m_check_values_indices_shape_match\u001b[1;34m(values, index, columns)\u001b[0m\n\u001b[0;32m    418\u001b[0m passed \u001b[38;5;241m=\u001b[39m values\u001b[38;5;241m.\u001b[39mshape\n\u001b[0;32m    419\u001b[0m implied \u001b[38;5;241m=\u001b[39m (\u001b[38;5;28mlen\u001b[39m(index), \u001b[38;5;28mlen\u001b[39m(columns))\n\u001b[1;32m--> 420\u001b[0m \u001b[38;5;28;01mraise\u001b[39;00m \u001b[38;5;167;01mValueError\u001b[39;00m(\u001b[38;5;124mf\u001b[39m\u001b[38;5;124m\"\u001b[39m\u001b[38;5;124mShape of passed values is \u001b[39m\u001b[38;5;132;01m{\u001b[39;00mpassed\u001b[38;5;132;01m}\u001b[39;00m\u001b[38;5;124m, indices imply \u001b[39m\u001b[38;5;132;01m{\u001b[39;00mimplied\u001b[38;5;132;01m}\u001b[39;00m\u001b[38;5;124m\"\u001b[39m)\n",
      "\u001b[1;31mValueError\u001b[0m: Shape of passed values is (1676, 2), indices imply (1676, 3)"
     ]
    }
   ],
   "source": [
    "recovered_data = transformer.inverse_transform(synthetic_data)\n"
   ]
  },
  {
   "cell_type": "code",
   "execution_count": 79,
   "metadata": {},
   "outputs": [
    {
     "ename": "ValueError",
     "evalue": "Shape of passed values is (1676, 165), indices imply (1676, 22)",
     "output_type": "error",
     "traceback": [
      "\u001b[1;31m---------------------------------------------------------------------------\u001b[0m",
      "\u001b[1;31mValueError\u001b[0m                                Traceback (most recent call last)",
      "Cell \u001b[1;32mIn[79], line 2\u001b[0m\n\u001b[0;32m      1\u001b[0m \u001b[38;5;28;01mimport\u001b[39;00m \u001b[38;5;21;01mpandas\u001b[39;00m \u001b[38;5;28;01mas\u001b[39;00m \u001b[38;5;21;01mpd\u001b[39;00m\n\u001b[1;32m----> 2\u001b[0m synthetic_df \u001b[38;5;241m=\u001b[39m pd\u001b[38;5;241m.\u001b[39mDataFrame(synthetic_data, columns\u001b[38;5;241m=\u001b[39mtrain_data\u001b[38;5;241m.\u001b[39mcolumns)\n\u001b[0;32m      4\u001b[0m synthetic_df\u001b[38;5;241m.\u001b[39mto_csv(\u001b[38;5;124m\"\u001b[39m\u001b[38;5;124msynthetic_energy_data.csv\u001b[39m\u001b[38;5;124m\"\u001b[39m, index\u001b[38;5;241m=\u001b[39m\u001b[38;5;28;01mFalse\u001b[39;00m)\n\u001b[0;32m      6\u001b[0m \u001b[38;5;28mprint\u001b[39m(\u001b[38;5;124m\"\u001b[39m\u001b[38;5;124mSynthetic Data Generated and Saved as synthetic_energy_data.csv\u001b[39m\u001b[38;5;124m\"\u001b[39m)\n",
      "File \u001b[1;32mc:\\Users\\jrsar\\anaconda3\\Lib\\site-packages\\pandas\\core\\frame.py:827\u001b[0m, in \u001b[0;36mDataFrame.__init__\u001b[1;34m(self, data, index, columns, dtype, copy)\u001b[0m\n\u001b[0;32m    816\u001b[0m         mgr \u001b[38;5;241m=\u001b[39m dict_to_mgr(\n\u001b[0;32m    817\u001b[0m             \u001b[38;5;66;03m# error: Item \"ndarray\" of \"Union[ndarray, Series, Index]\" has no\u001b[39;00m\n\u001b[0;32m    818\u001b[0m             \u001b[38;5;66;03m# attribute \"name\"\u001b[39;00m\n\u001b[1;32m   (...)\u001b[0m\n\u001b[0;32m    824\u001b[0m             copy\u001b[38;5;241m=\u001b[39m_copy,\n\u001b[0;32m    825\u001b[0m         )\n\u001b[0;32m    826\u001b[0m     \u001b[38;5;28;01melse\u001b[39;00m:\n\u001b[1;32m--> 827\u001b[0m         mgr \u001b[38;5;241m=\u001b[39m ndarray_to_mgr(\n\u001b[0;32m    828\u001b[0m             data,\n\u001b[0;32m    829\u001b[0m             index,\n\u001b[0;32m    830\u001b[0m             columns,\n\u001b[0;32m    831\u001b[0m             dtype\u001b[38;5;241m=\u001b[39mdtype,\n\u001b[0;32m    832\u001b[0m             copy\u001b[38;5;241m=\u001b[39mcopy,\n\u001b[0;32m    833\u001b[0m             typ\u001b[38;5;241m=\u001b[39mmanager,\n\u001b[0;32m    834\u001b[0m         )\n\u001b[0;32m    836\u001b[0m \u001b[38;5;66;03m# For data is list-like, or Iterable (will consume into list)\u001b[39;00m\n\u001b[0;32m    837\u001b[0m \u001b[38;5;28;01melif\u001b[39;00m is_list_like(data):\n",
      "File \u001b[1;32mc:\\Users\\jrsar\\anaconda3\\Lib\\site-packages\\pandas\\core\\internals\\construction.py:336\u001b[0m, in \u001b[0;36mndarray_to_mgr\u001b[1;34m(values, index, columns, dtype, copy, typ)\u001b[0m\n\u001b[0;32m    331\u001b[0m \u001b[38;5;66;03m# _prep_ndarraylike ensures that values.ndim == 2 at this point\u001b[39;00m\n\u001b[0;32m    332\u001b[0m index, columns \u001b[38;5;241m=\u001b[39m _get_axes(\n\u001b[0;32m    333\u001b[0m     values\u001b[38;5;241m.\u001b[39mshape[\u001b[38;5;241m0\u001b[39m], values\u001b[38;5;241m.\u001b[39mshape[\u001b[38;5;241m1\u001b[39m], index\u001b[38;5;241m=\u001b[39mindex, columns\u001b[38;5;241m=\u001b[39mcolumns\n\u001b[0;32m    334\u001b[0m )\n\u001b[1;32m--> 336\u001b[0m _check_values_indices_shape_match(values, index, columns)\n\u001b[0;32m    338\u001b[0m \u001b[38;5;28;01mif\u001b[39;00m typ \u001b[38;5;241m==\u001b[39m \u001b[38;5;124m\"\u001b[39m\u001b[38;5;124marray\u001b[39m\u001b[38;5;124m\"\u001b[39m:\n\u001b[0;32m    339\u001b[0m     \u001b[38;5;28;01mif\u001b[39;00m \u001b[38;5;28missubclass\u001b[39m(values\u001b[38;5;241m.\u001b[39mdtype\u001b[38;5;241m.\u001b[39mtype, \u001b[38;5;28mstr\u001b[39m):\n",
      "File \u001b[1;32mc:\\Users\\jrsar\\anaconda3\\Lib\\site-packages\\pandas\\core\\internals\\construction.py:420\u001b[0m, in \u001b[0;36m_check_values_indices_shape_match\u001b[1;34m(values, index, columns)\u001b[0m\n\u001b[0;32m    418\u001b[0m passed \u001b[38;5;241m=\u001b[39m values\u001b[38;5;241m.\u001b[39mshape\n\u001b[0;32m    419\u001b[0m implied \u001b[38;5;241m=\u001b[39m (\u001b[38;5;28mlen\u001b[39m(index), \u001b[38;5;28mlen\u001b[39m(columns))\n\u001b[1;32m--> 420\u001b[0m \u001b[38;5;28;01mraise\u001b[39;00m \u001b[38;5;167;01mValueError\u001b[39;00m(\u001b[38;5;124mf\u001b[39m\u001b[38;5;124m\"\u001b[39m\u001b[38;5;124mShape of passed values is \u001b[39m\u001b[38;5;132;01m{\u001b[39;00mpassed\u001b[38;5;132;01m}\u001b[39;00m\u001b[38;5;124m, indices imply \u001b[39m\u001b[38;5;132;01m{\u001b[39;00mimplied\u001b[38;5;132;01m}\u001b[39;00m\u001b[38;5;124m\"\u001b[39m)\n",
      "\u001b[1;31mValueError\u001b[0m: Shape of passed values is (1676, 165), indices imply (1676, 22)"
     ]
    }
   ],
   "source": [
    "import pandas as pd\n",
    "synthetic_df = pd.DataFrame(synthetic_data, columns=train_data.columns)\n",
    "\n",
    "synthetic_df.to_csv(\"synthetic_energy_data.csv\", index=False)\n",
    "\n",
    "print(\"Synthetic Data Generated and Saved as synthetic_energy_data.csv\")\n"
   ]
  },
  {
   "cell_type": "code",
   "execution_count": null,
   "metadata": {},
   "outputs": [],
   "source": []
  },
  {
   "cell_type": "code",
   "execution_count": 76,
   "metadata": {},
   "outputs": [
    {
     "ename": "ValueError",
     "evalue": "Shape of passed values is (1676, 2), indices imply (1676, 3)",
     "output_type": "error",
     "traceback": [
      "\u001b[1;31m---------------------------------------------------------------------------\u001b[0m",
      "\u001b[1;31mValueError\u001b[0m                                Traceback (most recent call last)",
      "Cell \u001b[1;32mIn[76], line 1\u001b[0m\n\u001b[1;32m----> 1\u001b[0m recovered_data \u001b[38;5;241m=\u001b[39m transformer\u001b[38;5;241m.\u001b[39minverse_transform(synthetic_data)\n\u001b[0;32m      2\u001b[0m \u001b[38;5;28mprint\u001b[39m(\u001b[38;5;124m\"\u001b[39m\u001b[38;5;124mRecovered data shape:\u001b[39m\u001b[38;5;124m\"\u001b[39m, recovered_data\u001b[38;5;241m.\u001b[39mshape)\n",
      "File \u001b[1;32mc:\\Users\\jrsar\\anaconda3\\Lib\\site-packages\\ctgan\\data_transformer.py:219\u001b[0m, in \u001b[0;36mDataTransformer.inverse_transform\u001b[1;34m(self, data, sigmas)\u001b[0m\n\u001b[0;32m    217\u001b[0m column_data \u001b[38;5;241m=\u001b[39m data[:, st : st \u001b[38;5;241m+\u001b[39m dim]\n\u001b[0;32m    218\u001b[0m \u001b[38;5;28;01mif\u001b[39;00m column_transform_info\u001b[38;5;241m.\u001b[39mcolumn_type \u001b[38;5;241m==\u001b[39m \u001b[38;5;124m'\u001b[39m\u001b[38;5;124mcontinuous\u001b[39m\u001b[38;5;124m'\u001b[39m:\n\u001b[1;32m--> 219\u001b[0m     recovered_column_data \u001b[38;5;241m=\u001b[39m \u001b[38;5;28mself\u001b[39m\u001b[38;5;241m.\u001b[39m_inverse_transform_continuous(\n\u001b[0;32m    220\u001b[0m         column_transform_info, column_data, sigmas, st\n\u001b[0;32m    221\u001b[0m     )\n\u001b[0;32m    222\u001b[0m \u001b[38;5;28;01melse\u001b[39;00m:\n\u001b[0;32m    223\u001b[0m     recovered_column_data \u001b[38;5;241m=\u001b[39m \u001b[38;5;28mself\u001b[39m\u001b[38;5;241m.\u001b[39m_inverse_transform_discrete(\n\u001b[0;32m    224\u001b[0m         column_transform_info, column_data\n\u001b[0;32m    225\u001b[0m     )\n",
      "File \u001b[1;32mc:\\Users\\jrsar\\anaconda3\\Lib\\site-packages\\ctgan\\data_transformer.py:193\u001b[0m, in \u001b[0;36mDataTransformer._inverse_transform_continuous\u001b[1;34m(self, column_transform_info, column_data, sigmas, st)\u001b[0m\n\u001b[0;32m    191\u001b[0m \u001b[38;5;28;01mdef\u001b[39;00m \u001b[38;5;21m_inverse_transform_continuous\u001b[39m(\u001b[38;5;28mself\u001b[39m, column_transform_info, column_data, sigmas, st):\n\u001b[0;32m    192\u001b[0m     gm \u001b[38;5;241m=\u001b[39m column_transform_info\u001b[38;5;241m.\u001b[39mtransform\n\u001b[1;32m--> 193\u001b[0m     data \u001b[38;5;241m=\u001b[39m pd\u001b[38;5;241m.\u001b[39mDataFrame(column_data[:, :\u001b[38;5;241m2\u001b[39m], columns\u001b[38;5;241m=\u001b[39m\u001b[38;5;28mlist\u001b[39m(gm\u001b[38;5;241m.\u001b[39mget_output_sdtypes()))\u001b[38;5;241m.\u001b[39mastype(\u001b[38;5;28mfloat\u001b[39m)\n\u001b[0;32m    194\u001b[0m     data[data\u001b[38;5;241m.\u001b[39mcolumns[\u001b[38;5;241m1\u001b[39m]] \u001b[38;5;241m=\u001b[39m np\u001b[38;5;241m.\u001b[39margmax(column_data[:, \u001b[38;5;241m1\u001b[39m:], axis\u001b[38;5;241m=\u001b[39m\u001b[38;5;241m1\u001b[39m)\n\u001b[0;32m    195\u001b[0m     \u001b[38;5;28;01mif\u001b[39;00m sigmas \u001b[38;5;129;01mis\u001b[39;00m \u001b[38;5;129;01mnot\u001b[39;00m \u001b[38;5;28;01mNone\u001b[39;00m:\n",
      "File \u001b[1;32mc:\\Users\\jrsar\\anaconda3\\Lib\\site-packages\\pandas\\core\\frame.py:827\u001b[0m, in \u001b[0;36mDataFrame.__init__\u001b[1;34m(self, data, index, columns, dtype, copy)\u001b[0m\n\u001b[0;32m    816\u001b[0m         mgr \u001b[38;5;241m=\u001b[39m dict_to_mgr(\n\u001b[0;32m    817\u001b[0m             \u001b[38;5;66;03m# error: Item \"ndarray\" of \"Union[ndarray, Series, Index]\" has no\u001b[39;00m\n\u001b[0;32m    818\u001b[0m             \u001b[38;5;66;03m# attribute \"name\"\u001b[39;00m\n\u001b[1;32m   (...)\u001b[0m\n\u001b[0;32m    824\u001b[0m             copy\u001b[38;5;241m=\u001b[39m_copy,\n\u001b[0;32m    825\u001b[0m         )\n\u001b[0;32m    826\u001b[0m     \u001b[38;5;28;01melse\u001b[39;00m:\n\u001b[1;32m--> 827\u001b[0m         mgr \u001b[38;5;241m=\u001b[39m ndarray_to_mgr(\n\u001b[0;32m    828\u001b[0m             data,\n\u001b[0;32m    829\u001b[0m             index,\n\u001b[0;32m    830\u001b[0m             columns,\n\u001b[0;32m    831\u001b[0m             dtype\u001b[38;5;241m=\u001b[39mdtype,\n\u001b[0;32m    832\u001b[0m             copy\u001b[38;5;241m=\u001b[39mcopy,\n\u001b[0;32m    833\u001b[0m             typ\u001b[38;5;241m=\u001b[39mmanager,\n\u001b[0;32m    834\u001b[0m         )\n\u001b[0;32m    836\u001b[0m \u001b[38;5;66;03m# For data is list-like, or Iterable (will consume into list)\u001b[39;00m\n\u001b[0;32m    837\u001b[0m \u001b[38;5;28;01melif\u001b[39;00m is_list_like(data):\n",
      "File \u001b[1;32mc:\\Users\\jrsar\\anaconda3\\Lib\\site-packages\\pandas\\core\\internals\\construction.py:336\u001b[0m, in \u001b[0;36mndarray_to_mgr\u001b[1;34m(values, index, columns, dtype, copy, typ)\u001b[0m\n\u001b[0;32m    331\u001b[0m \u001b[38;5;66;03m# _prep_ndarraylike ensures that values.ndim == 2 at this point\u001b[39;00m\n\u001b[0;32m    332\u001b[0m index, columns \u001b[38;5;241m=\u001b[39m _get_axes(\n\u001b[0;32m    333\u001b[0m     values\u001b[38;5;241m.\u001b[39mshape[\u001b[38;5;241m0\u001b[39m], values\u001b[38;5;241m.\u001b[39mshape[\u001b[38;5;241m1\u001b[39m], index\u001b[38;5;241m=\u001b[39mindex, columns\u001b[38;5;241m=\u001b[39mcolumns\n\u001b[0;32m    334\u001b[0m )\n\u001b[1;32m--> 336\u001b[0m _check_values_indices_shape_match(values, index, columns)\n\u001b[0;32m    338\u001b[0m \u001b[38;5;28;01mif\u001b[39;00m typ \u001b[38;5;241m==\u001b[39m \u001b[38;5;124m\"\u001b[39m\u001b[38;5;124marray\u001b[39m\u001b[38;5;124m\"\u001b[39m:\n\u001b[0;32m    339\u001b[0m     \u001b[38;5;28;01mif\u001b[39;00m \u001b[38;5;28missubclass\u001b[39m(values\u001b[38;5;241m.\u001b[39mdtype\u001b[38;5;241m.\u001b[39mtype, \u001b[38;5;28mstr\u001b[39m):\n",
      "File \u001b[1;32mc:\\Users\\jrsar\\anaconda3\\Lib\\site-packages\\pandas\\core\\internals\\construction.py:420\u001b[0m, in \u001b[0;36m_check_values_indices_shape_match\u001b[1;34m(values, index, columns)\u001b[0m\n\u001b[0;32m    418\u001b[0m passed \u001b[38;5;241m=\u001b[39m values\u001b[38;5;241m.\u001b[39mshape\n\u001b[0;32m    419\u001b[0m implied \u001b[38;5;241m=\u001b[39m (\u001b[38;5;28mlen\u001b[39m(index), \u001b[38;5;28mlen\u001b[39m(columns))\n\u001b[1;32m--> 420\u001b[0m \u001b[38;5;28;01mraise\u001b[39;00m \u001b[38;5;167;01mValueError\u001b[39;00m(\u001b[38;5;124mf\u001b[39m\u001b[38;5;124m\"\u001b[39m\u001b[38;5;124mShape of passed values is \u001b[39m\u001b[38;5;132;01m{\u001b[39;00mpassed\u001b[38;5;132;01m}\u001b[39;00m\u001b[38;5;124m, indices imply \u001b[39m\u001b[38;5;132;01m{\u001b[39;00mimplied\u001b[38;5;132;01m}\u001b[39;00m\u001b[38;5;124m\"\u001b[39m)\n",
      "\u001b[1;31mValueError\u001b[0m: Shape of passed values is (1676, 2), indices imply (1676, 3)"
     ]
    }
   ],
   "source": [
    "recovered_data = transformer.inverse_transform(synthetic_data)\n",
    "print(\"Recovered data shape:\", recovered_data.shape)"
   ]
  },
  {
   "cell_type": "code",
   "execution_count": 67,
   "metadata": {},
   "outputs": [
    {
     "name": "stdout",
     "output_type": "stream",
     "text": [
      "Train data shape: (1676, 22)\n",
      "Discrete columns: ['season', 'weather_conditions', 'covid_effect']\n"
     ]
    }
   ],
   "source": [
    "print(\"Train data shape:\", train_data.shape)\n",
    "print(\"Discrete columns:\", categorical_columns)\n"
   ]
  }
 ],
 "metadata": {
  "kernelspec": {
   "display_name": "base",
   "language": "python",
   "name": "python3"
  },
  "language_info": {
   "codemirror_mode": {
    "name": "ipython",
    "version": 3
   },
   "file_extension": ".py",
   "mimetype": "text/x-python",
   "name": "python",
   "nbconvert_exporter": "python",
   "pygments_lexer": "ipython3",
   "version": "3.12.7"
  }
 },
 "nbformat": 4,
 "nbformat_minor": 2
}
